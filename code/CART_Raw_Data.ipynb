{
 "cells": [
  {
   "cell_type": "code",
   "execution_count": 2,
   "metadata": {
    "hideCode": false,
    "hidePrompt": false
   },
   "outputs": [
    {
     "name": "stderr",
     "output_type": "stream",
     "text": [
      "Warning message:\n",
      "\"package 'rpart.plot' was built under R version 3.6.3\"Loading required package: lattice\n"
     ]
    }
   ],
   "source": [
    "library(rpart)\n",
    "library(rpart.plot)\n",
    "library(ggplot2)\n",
    "library(caret)\n",
    "\n",
    "data = read.csv(\"D:/nyctrees/data/data.csv\")"
   ]
  },
  {
   "cell_type": "code",
   "execution_count": 3,
   "metadata": {
    "hideCode": false,
    "hidePrompt": false
   },
   "outputs": [
    {
     "data": {
      "text/html": [
       "<table>\n",
       "<thead><tr><th scope=col>ntaname_full</th><th scope=col>nta</th><th scope=col>nta_name</th><th scope=col>boro_ct</th><th scope=col>borocode</th><th scope=col>boroname</th><th scope=col>cncldist</th><th scope=col>inf_guard</th><th scope=col>inf_shoes</th><th scope=col>latitude</th><th scope=col>longitude</th><th scope=col>sidw_crack</th><th scope=col>st_assem</th><th scope=col>st_senate</th><th scope=col>healthstatus</th><th scope=col>tree_dbh</th><th scope=col>x_sp</th><th scope=col>y_sp</th><th scope=col>zip_city</th><th scope=col>zipcode</th><th scope=col>year</th><th scope=col>income</th><th scope=col>education</th><th scope=col>population</th><th scope=col>unemployment</th><th scope=col>popDensity</th><th scope=col>laborforce</th><th scope=col>poverty</th><th scope=col>diversity</th><th scope=col>genus</th><th scope=col>species</th><th scope=col>TotalPop</th><th scope=col>Men</th><th scope=col>Women</th><th scope=col>Hispanic</th><th scope=col>White</th><th scope=col>Black</th><th scope=col>Native</th><th scope=col>Asian</th><th scope=col>Citizen</th><th scope=col>Income</th><th scope=col>IncomeErr</th><th scope=col>IncomePerCap</th><th scope=col>IncomePerCapErr</th><th scope=col>Poverty</th><th scope=col>ChildPoverty</th><th scope=col>Professional</th><th scope=col>Service</th><th scope=col>Office</th><th scope=col>Construction</th><th scope=col>Production</th><th scope=col>Drive</th><th scope=col>Carpool</th><th scope=col>Transit</th><th scope=col>Walk</th><th scope=col>OtherTransp</th><th scope=col>WorkAtHome</th><th scope=col>MeanCommute</th><th scope=col>Employed</th><th scope=col>PrivateWork</th><th scope=col>PublicWork</th><th scope=col>SelfEmployed</th><th scope=col>FamilyWork</th><th scope=col>Unemployment</th></tr></thead>\n",
       "<tbody>\n",
       "\t<tr><td>Airport       </td><td>QN98          </td><td>Queens Village</td><td>4071600       </td><td>4             </td><td>Queens        </td><td>28            </td><td>No            </td><td>No            </td><td>40.66405      </td><td>-73.80641     </td><td>No            </td><td>31            </td><td>10            </td><td>Good          </td><td>21            </td><td>1037959       </td><td>181267        </td><td>Jamaica       </td><td>11430         </td><td>2005          </td><td>83630         </td><td>0.3307154     </td><td>188995        </td><td>0.07134825    </td><td>10.84658      </td><td>0.6580465     </td><td>0.05089094    </td><td>3.0837        </td><td>platanus      </td><td>acerifolia    </td><td>NA            </td><td>NA            </td><td>NA            </td><td>NA            </td><td>NA            </td><td>NA            </td><td>NA            </td><td>NA            </td><td>NA            </td><td>NA            </td><td>NA            </td><td>NA            </td><td>NA            </td><td>NA            </td><td>NA            </td><td>NA            </td><td>NA            </td><td>NA            </td><td>NA            </td><td>NA            </td><td>NA            </td><td>NA            </td><td>NA            </td><td>NA            </td><td>NA            </td><td>NA            </td><td>NA            </td><td>NA            </td><td>NA            </td><td>NA            </td><td>NA            </td><td>NA            </td><td>NA            </td></tr>\n",
       "\t<tr><td>Airport       </td><td>QN98          </td><td>Queens Village</td><td>4071600       </td><td>4             </td><td>Queens        </td><td>28            </td><td>No            </td><td>No            </td><td>40.66405      </td><td>-73.80641     </td><td>No            </td><td>31            </td><td>10            </td><td>Good          </td><td>13            </td><td>1037959       </td><td>181267        </td><td>Jamaica       </td><td>11430         </td><td>2005          </td><td>83630         </td><td>0.3307154     </td><td>188995        </td><td>0.07134825    </td><td>10.84658      </td><td>0.6580465     </td><td>0.05089094    </td><td>3.0837        </td><td>platanus      </td><td>acerifolia    </td><td>NA            </td><td>NA            </td><td>NA            </td><td>NA            </td><td>NA            </td><td>NA            </td><td>NA            </td><td>NA            </td><td>NA            </td><td>NA            </td><td>NA            </td><td>NA            </td><td>NA            </td><td>NA            </td><td>NA            </td><td>NA            </td><td>NA            </td><td>NA            </td><td>NA            </td><td>NA            </td><td>NA            </td><td>NA            </td><td>NA            </td><td>NA            </td><td>NA            </td><td>NA            </td><td>NA            </td><td>NA            </td><td>NA            </td><td>NA            </td><td>NA            </td><td>NA            </td><td>NA            </td></tr>\n",
       "\t<tr><td>Airport       </td><td>QN98          </td><td>Queens Village</td><td>4071600       </td><td>4             </td><td>Queens        </td><td>28            </td><td>No            </td><td>No            </td><td>40.66405      </td><td>-73.80641     </td><td>No            </td><td>31            </td><td>10            </td><td>Good          </td><td>16            </td><td>1037959       </td><td>181267        </td><td>Jamaica       </td><td>11430         </td><td>2005          </td><td>83630         </td><td>0.3307154     </td><td>188995        </td><td>0.07134825    </td><td>10.84658      </td><td>0.6580465     </td><td>0.05089094    </td><td>3.0837        </td><td>platanus      </td><td>acerifolia    </td><td>NA            </td><td>NA            </td><td>NA            </td><td>NA            </td><td>NA            </td><td>NA            </td><td>NA            </td><td>NA            </td><td>NA            </td><td>NA            </td><td>NA            </td><td>NA            </td><td>NA            </td><td>NA            </td><td>NA            </td><td>NA            </td><td>NA            </td><td>NA            </td><td>NA            </td><td>NA            </td><td>NA            </td><td>NA            </td><td>NA            </td><td>NA            </td><td>NA            </td><td>NA            </td><td>NA            </td><td>NA            </td><td>NA            </td><td>NA            </td><td>NA            </td><td>NA            </td><td>NA            </td></tr>\n",
       "\t<tr><td>Airport       </td><td>QN98          </td><td>Queens Village</td><td>4071600       </td><td>4             </td><td>Queens        </td><td>28            </td><td>No            </td><td>No            </td><td>40.66405      </td><td>-73.80641     </td><td>No            </td><td>31            </td><td>10            </td><td>Good          </td><td>15            </td><td>1037959       </td><td>181267        </td><td>Jamaica       </td><td>11430         </td><td>2005          </td><td>83630         </td><td>0.3307154     </td><td>188995        </td><td>0.07134825    </td><td>10.84658      </td><td>0.6580465     </td><td>0.05089094    </td><td>3.0837        </td><td>platanus      </td><td>acerifolia    </td><td>NA            </td><td>NA            </td><td>NA            </td><td>NA            </td><td>NA            </td><td>NA            </td><td>NA            </td><td>NA            </td><td>NA            </td><td>NA            </td><td>NA            </td><td>NA            </td><td>NA            </td><td>NA            </td><td>NA            </td><td>NA            </td><td>NA            </td><td>NA            </td><td>NA            </td><td>NA            </td><td>NA            </td><td>NA            </td><td>NA            </td><td>NA            </td><td>NA            </td><td>NA            </td><td>NA            </td><td>NA            </td><td>NA            </td><td>NA            </td><td>NA            </td><td>NA            </td><td>NA            </td></tr>\n",
       "\t<tr><td>Airport       </td><td>QN98          </td><td>Queens Village</td><td>4071600       </td><td>4             </td><td>Queens        </td><td>28            </td><td>No            </td><td>No            </td><td>40.66405      </td><td>-73.80641     </td><td>No            </td><td>31            </td><td>10            </td><td>Good          </td><td>14            </td><td>1037959       </td><td>181267        </td><td>Jamaica       </td><td>11430         </td><td>2005          </td><td>83630         </td><td>0.3307154     </td><td>188995        </td><td>0.07134825    </td><td>10.84658      </td><td>0.6580465     </td><td>0.05089094    </td><td>3.0837        </td><td>platanus      </td><td>acerifolia    </td><td>NA            </td><td>NA            </td><td>NA            </td><td>NA            </td><td>NA            </td><td>NA            </td><td>NA            </td><td>NA            </td><td>NA            </td><td>NA            </td><td>NA            </td><td>NA            </td><td>NA            </td><td>NA            </td><td>NA            </td><td>NA            </td><td>NA            </td><td>NA            </td><td>NA            </td><td>NA            </td><td>NA            </td><td>NA            </td><td>NA            </td><td>NA            </td><td>NA            </td><td>NA            </td><td>NA            </td><td>NA            </td><td>NA            </td><td>NA            </td><td>NA            </td><td>NA            </td><td>NA            </td></tr>\n",
       "\t<tr><td>Airport       </td><td>QN98          </td><td>Queens Village</td><td>4071600       </td><td>4             </td><td>Queens        </td><td>28            </td><td>No            </td><td>No            </td><td>40.66405      </td><td>-73.80641     </td><td>No            </td><td>31            </td><td>10            </td><td>Good          </td><td>16            </td><td>1037959       </td><td>181267        </td><td>Jamaica       </td><td>11430         </td><td>2005          </td><td>83630         </td><td>0.3307154     </td><td>188995        </td><td>0.07134825    </td><td>10.84658      </td><td>0.6580465     </td><td>0.05089094    </td><td>3.0837        </td><td>platanus      </td><td>acerifolia    </td><td>NA            </td><td>NA            </td><td>NA            </td><td>NA            </td><td>NA            </td><td>NA            </td><td>NA            </td><td>NA            </td><td>NA            </td><td>NA            </td><td>NA            </td><td>NA            </td><td>NA            </td><td>NA            </td><td>NA            </td><td>NA            </td><td>NA            </td><td>NA            </td><td>NA            </td><td>NA            </td><td>NA            </td><td>NA            </td><td>NA            </td><td>NA            </td><td>NA            </td><td>NA            </td><td>NA            </td><td>NA            </td><td>NA            </td><td>NA            </td><td>NA            </td><td>NA            </td><td>NA            </td></tr>\n",
       "</tbody>\n",
       "</table>\n"
      ],
      "text/latex": [
       "\\begin{tabular}{r|llllllllllllllllllllllllllllllllllllllllllllllllllllllllllllllll}\n",
       " ntaname\\_full & nta & nta\\_name & boro\\_ct & borocode & boroname & cncldist & inf\\_guard & inf\\_shoes & latitude & longitude & sidw\\_crack & st\\_assem & st\\_senate & healthstatus & tree\\_dbh & x\\_sp & y\\_sp & zip\\_city & zipcode & year & income & education & population & unemployment & popDensity & laborforce & poverty & diversity & genus & species & TotalPop & Men & Women & Hispanic & White & Black & Native & Asian & Citizen & Income & IncomeErr & IncomePerCap & IncomePerCapErr & Poverty & ChildPoverty & Professional & Service & Office & Construction & Production & Drive & Carpool & Transit & Walk & OtherTransp & WorkAtHome & MeanCommute & Employed & PrivateWork & PublicWork & SelfEmployed & FamilyWork & Unemployment\\\\\n",
       "\\hline\n",
       "\t Airport        & QN98           & Queens Village & 4071600        & 4              & Queens         & 28             & No             & No             & 40.66405       & -73.80641      & No             & 31             & 10             & Good           & 21             & 1037959        & 181267         & Jamaica        & 11430          & 2005           & 83630          & 0.3307154      & 188995         & 0.07134825     & 10.84658       & 0.6580465      & 0.05089094     & 3.0837         & platanus       & acerifolia     & NA             & NA             & NA             & NA             & NA             & NA             & NA             & NA             & NA             & NA             & NA             & NA             & NA             & NA             & NA             & NA             & NA             & NA             & NA             & NA             & NA             & NA             & NA             & NA             & NA             & NA             & NA             & NA             & NA             & NA             & NA             & NA             & NA            \\\\\n",
       "\t Airport        & QN98           & Queens Village & 4071600        & 4              & Queens         & 28             & No             & No             & 40.66405       & -73.80641      & No             & 31             & 10             & Good           & 13             & 1037959        & 181267         & Jamaica        & 11430          & 2005           & 83630          & 0.3307154      & 188995         & 0.07134825     & 10.84658       & 0.6580465      & 0.05089094     & 3.0837         & platanus       & acerifolia     & NA             & NA             & NA             & NA             & NA             & NA             & NA             & NA             & NA             & NA             & NA             & NA             & NA             & NA             & NA             & NA             & NA             & NA             & NA             & NA             & NA             & NA             & NA             & NA             & NA             & NA             & NA             & NA             & NA             & NA             & NA             & NA             & NA            \\\\\n",
       "\t Airport        & QN98           & Queens Village & 4071600        & 4              & Queens         & 28             & No             & No             & 40.66405       & -73.80641      & No             & 31             & 10             & Good           & 16             & 1037959        & 181267         & Jamaica        & 11430          & 2005           & 83630          & 0.3307154      & 188995         & 0.07134825     & 10.84658       & 0.6580465      & 0.05089094     & 3.0837         & platanus       & acerifolia     & NA             & NA             & NA             & NA             & NA             & NA             & NA             & NA             & NA             & NA             & NA             & NA             & NA             & NA             & NA             & NA             & NA             & NA             & NA             & NA             & NA             & NA             & NA             & NA             & NA             & NA             & NA             & NA             & NA             & NA             & NA             & NA             & NA            \\\\\n",
       "\t Airport        & QN98           & Queens Village & 4071600        & 4              & Queens         & 28             & No             & No             & 40.66405       & -73.80641      & No             & 31             & 10             & Good           & 15             & 1037959        & 181267         & Jamaica        & 11430          & 2005           & 83630          & 0.3307154      & 188995         & 0.07134825     & 10.84658       & 0.6580465      & 0.05089094     & 3.0837         & platanus       & acerifolia     & NA             & NA             & NA             & NA             & NA             & NA             & NA             & NA             & NA             & NA             & NA             & NA             & NA             & NA             & NA             & NA             & NA             & NA             & NA             & NA             & NA             & NA             & NA             & NA             & NA             & NA             & NA             & NA             & NA             & NA             & NA             & NA             & NA            \\\\\n",
       "\t Airport        & QN98           & Queens Village & 4071600        & 4              & Queens         & 28             & No             & No             & 40.66405       & -73.80641      & No             & 31             & 10             & Good           & 14             & 1037959        & 181267         & Jamaica        & 11430          & 2005           & 83630          & 0.3307154      & 188995         & 0.07134825     & 10.84658       & 0.6580465      & 0.05089094     & 3.0837         & platanus       & acerifolia     & NA             & NA             & NA             & NA             & NA             & NA             & NA             & NA             & NA             & NA             & NA             & NA             & NA             & NA             & NA             & NA             & NA             & NA             & NA             & NA             & NA             & NA             & NA             & NA             & NA             & NA             & NA             & NA             & NA             & NA             & NA             & NA             & NA            \\\\\n",
       "\t Airport        & QN98           & Queens Village & 4071600        & 4              & Queens         & 28             & No             & No             & 40.66405       & -73.80641      & No             & 31             & 10             & Good           & 16             & 1037959        & 181267         & Jamaica        & 11430          & 2005           & 83630          & 0.3307154      & 188995         & 0.07134825     & 10.84658       & 0.6580465      & 0.05089094     & 3.0837         & platanus       & acerifolia     & NA             & NA             & NA             & NA             & NA             & NA             & NA             & NA             & NA             & NA             & NA             & NA             & NA             & NA             & NA             & NA             & NA             & NA             & NA             & NA             & NA             & NA             & NA             & NA             & NA             & NA             & NA             & NA             & NA             & NA             & NA             & NA             & NA            \\\\\n",
       "\\end{tabular}\n"
      ],
      "text/markdown": [
       "\n",
       "| ntaname_full | nta | nta_name | boro_ct | borocode | boroname | cncldist | inf_guard | inf_shoes | latitude | longitude | sidw_crack | st_assem | st_senate | healthstatus | tree_dbh | x_sp | y_sp | zip_city | zipcode | year | income | education | population | unemployment | popDensity | laborforce | poverty | diversity | genus | species | TotalPop | Men | Women | Hispanic | White | Black | Native | Asian | Citizen | Income | IncomeErr | IncomePerCap | IncomePerCapErr | Poverty | ChildPoverty | Professional | Service | Office | Construction | Production | Drive | Carpool | Transit | Walk | OtherTransp | WorkAtHome | MeanCommute | Employed | PrivateWork | PublicWork | SelfEmployed | FamilyWork | Unemployment |\n",
       "|---|---|---|---|---|---|---|---|---|---|---|---|---|---|---|---|---|---|---|---|---|---|---|---|---|---|---|---|---|---|---|---|---|---|---|---|---|---|---|---|---|---|---|---|---|---|---|---|---|---|---|---|---|---|---|---|---|---|---|---|---|---|---|---|\n",
       "| Airport        | QN98           | Queens Village | 4071600        | 4              | Queens         | 28             | No             | No             | 40.66405       | -73.80641      | No             | 31             | 10             | Good           | 21             | 1037959        | 181267         | Jamaica        | 11430          | 2005           | 83630          | 0.3307154      | 188995         | 0.07134825     | 10.84658       | 0.6580465      | 0.05089094     | 3.0837         | platanus       | acerifolia     | NA             | NA             | NA             | NA             | NA             | NA             | NA             | NA             | NA             | NA             | NA             | NA             | NA             | NA             | NA             | NA             | NA             | NA             | NA             | NA             | NA             | NA             | NA             | NA             | NA             | NA             | NA             | NA             | NA             | NA             | NA             | NA             | NA             |\n",
       "| Airport        | QN98           | Queens Village | 4071600        | 4              | Queens         | 28             | No             | No             | 40.66405       | -73.80641      | No             | 31             | 10             | Good           | 13             | 1037959        | 181267         | Jamaica        | 11430          | 2005           | 83630          | 0.3307154      | 188995         | 0.07134825     | 10.84658       | 0.6580465      | 0.05089094     | 3.0837         | platanus       | acerifolia     | NA             | NA             | NA             | NA             | NA             | NA             | NA             | NA             | NA             | NA             | NA             | NA             | NA             | NA             | NA             | NA             | NA             | NA             | NA             | NA             | NA             | NA             | NA             | NA             | NA             | NA             | NA             | NA             | NA             | NA             | NA             | NA             | NA             |\n",
       "| Airport        | QN98           | Queens Village | 4071600        | 4              | Queens         | 28             | No             | No             | 40.66405       | -73.80641      | No             | 31             | 10             | Good           | 16             | 1037959        | 181267         | Jamaica        | 11430          | 2005           | 83630          | 0.3307154      | 188995         | 0.07134825     | 10.84658       | 0.6580465      | 0.05089094     | 3.0837         | platanus       | acerifolia     | NA             | NA             | NA             | NA             | NA             | NA             | NA             | NA             | NA             | NA             | NA             | NA             | NA             | NA             | NA             | NA             | NA             | NA             | NA             | NA             | NA             | NA             | NA             | NA             | NA             | NA             | NA             | NA             | NA             | NA             | NA             | NA             | NA             |\n",
       "| Airport        | QN98           | Queens Village | 4071600        | 4              | Queens         | 28             | No             | No             | 40.66405       | -73.80641      | No             | 31             | 10             | Good           | 15             | 1037959        | 181267         | Jamaica        | 11430          | 2005           | 83630          | 0.3307154      | 188995         | 0.07134825     | 10.84658       | 0.6580465      | 0.05089094     | 3.0837         | platanus       | acerifolia     | NA             | NA             | NA             | NA             | NA             | NA             | NA             | NA             | NA             | NA             | NA             | NA             | NA             | NA             | NA             | NA             | NA             | NA             | NA             | NA             | NA             | NA             | NA             | NA             | NA             | NA             | NA             | NA             | NA             | NA             | NA             | NA             | NA             |\n",
       "| Airport        | QN98           | Queens Village | 4071600        | 4              | Queens         | 28             | No             | No             | 40.66405       | -73.80641      | No             | 31             | 10             | Good           | 14             | 1037959        | 181267         | Jamaica        | 11430          | 2005           | 83630          | 0.3307154      | 188995         | 0.07134825     | 10.84658       | 0.6580465      | 0.05089094     | 3.0837         | platanus       | acerifolia     | NA             | NA             | NA             | NA             | NA             | NA             | NA             | NA             | NA             | NA             | NA             | NA             | NA             | NA             | NA             | NA             | NA             | NA             | NA             | NA             | NA             | NA             | NA             | NA             | NA             | NA             | NA             | NA             | NA             | NA             | NA             | NA             | NA             |\n",
       "| Airport        | QN98           | Queens Village | 4071600        | 4              | Queens         | 28             | No             | No             | 40.66405       | -73.80641      | No             | 31             | 10             | Good           | 16             | 1037959        | 181267         | Jamaica        | 11430          | 2005           | 83630          | 0.3307154      | 188995         | 0.07134825     | 10.84658       | 0.6580465      | 0.05089094     | 3.0837         | platanus       | acerifolia     | NA             | NA             | NA             | NA             | NA             | NA             | NA             | NA             | NA             | NA             | NA             | NA             | NA             | NA             | NA             | NA             | NA             | NA             | NA             | NA             | NA             | NA             | NA             | NA             | NA             | NA             | NA             | NA             | NA             | NA             | NA             | NA             | NA             |\n",
       "\n"
      ],
      "text/plain": [
       "  ntaname_full nta  nta_name       boro_ct borocode boroname cncldist inf_guard\n",
       "1 Airport      QN98 Queens Village 4071600 4        Queens   28       No       \n",
       "2 Airport      QN98 Queens Village 4071600 4        Queens   28       No       \n",
       "3 Airport      QN98 Queens Village 4071600 4        Queens   28       No       \n",
       "4 Airport      QN98 Queens Village 4071600 4        Queens   28       No       \n",
       "5 Airport      QN98 Queens Village 4071600 4        Queens   28       No       \n",
       "6 Airport      QN98 Queens Village 4071600 4        Queens   28       No       \n",
       "  inf_shoes latitude longitude sidw_crack st_assem st_senate healthstatus\n",
       "1 No        40.66405 -73.80641 No         31       10        Good        \n",
       "2 No        40.66405 -73.80641 No         31       10        Good        \n",
       "3 No        40.66405 -73.80641 No         31       10        Good        \n",
       "4 No        40.66405 -73.80641 No         31       10        Good        \n",
       "5 No        40.66405 -73.80641 No         31       10        Good        \n",
       "6 No        40.66405 -73.80641 No         31       10        Good        \n",
       "  tree_dbh x_sp    y_sp   zip_city zipcode year income education population\n",
       "1 21       1037959 181267 Jamaica  11430   2005 83630  0.3307154 188995    \n",
       "2 13       1037959 181267 Jamaica  11430   2005 83630  0.3307154 188995    \n",
       "3 16       1037959 181267 Jamaica  11430   2005 83630  0.3307154 188995    \n",
       "4 15       1037959 181267 Jamaica  11430   2005 83630  0.3307154 188995    \n",
       "5 14       1037959 181267 Jamaica  11430   2005 83630  0.3307154 188995    \n",
       "6 16       1037959 181267 Jamaica  11430   2005 83630  0.3307154 188995    \n",
       "  unemployment popDensity laborforce poverty    diversity genus    species   \n",
       "1 0.07134825   10.84658   0.6580465  0.05089094 3.0837    platanus acerifolia\n",
       "2 0.07134825   10.84658   0.6580465  0.05089094 3.0837    platanus acerifolia\n",
       "3 0.07134825   10.84658   0.6580465  0.05089094 3.0837    platanus acerifolia\n",
       "4 0.07134825   10.84658   0.6580465  0.05089094 3.0837    platanus acerifolia\n",
       "5 0.07134825   10.84658   0.6580465  0.05089094 3.0837    platanus acerifolia\n",
       "6 0.07134825   10.84658   0.6580465  0.05089094 3.0837    platanus acerifolia\n",
       "  TotalPop Men Women Hispanic White Black Native Asian Citizen Income IncomeErr\n",
       "1 NA       NA  NA    NA       NA    NA    NA     NA    NA      NA     NA       \n",
       "2 NA       NA  NA    NA       NA    NA    NA     NA    NA      NA     NA       \n",
       "3 NA       NA  NA    NA       NA    NA    NA     NA    NA      NA     NA       \n",
       "4 NA       NA  NA    NA       NA    NA    NA     NA    NA      NA     NA       \n",
       "5 NA       NA  NA    NA       NA    NA    NA     NA    NA      NA     NA       \n",
       "6 NA       NA  NA    NA       NA    NA    NA     NA    NA      NA     NA       \n",
       "  IncomePerCap IncomePerCapErr Poverty ChildPoverty Professional Service Office\n",
       "1 NA           NA              NA      NA           NA           NA      NA    \n",
       "2 NA           NA              NA      NA           NA           NA      NA    \n",
       "3 NA           NA              NA      NA           NA           NA      NA    \n",
       "4 NA           NA              NA      NA           NA           NA      NA    \n",
       "5 NA           NA              NA      NA           NA           NA      NA    \n",
       "6 NA           NA              NA      NA           NA           NA      NA    \n",
       "  Construction Production Drive Carpool Transit Walk OtherTransp WorkAtHome\n",
       "1 NA           NA         NA    NA      NA      NA   NA          NA        \n",
       "2 NA           NA         NA    NA      NA      NA   NA          NA        \n",
       "3 NA           NA         NA    NA      NA      NA   NA          NA        \n",
       "4 NA           NA         NA    NA      NA      NA   NA          NA        \n",
       "5 NA           NA         NA    NA      NA      NA   NA          NA        \n",
       "6 NA           NA         NA    NA      NA      NA   NA          NA        \n",
       "  MeanCommute Employed PrivateWork PublicWork SelfEmployed FamilyWork\n",
       "1 NA          NA       NA          NA         NA           NA        \n",
       "2 NA          NA       NA          NA         NA           NA        \n",
       "3 NA          NA       NA          NA         NA           NA        \n",
       "4 NA          NA       NA          NA         NA           NA        \n",
       "5 NA          NA       NA          NA         NA           NA        \n",
       "6 NA          NA       NA          NA         NA           NA        \n",
       "  Unemployment\n",
       "1 NA          \n",
       "2 NA          \n",
       "3 NA          \n",
       "4 NA          \n",
       "5 NA          \n",
       "6 NA          "
      ]
     },
     "metadata": {},
     "output_type": "display_data"
    }
   ],
   "source": [
    "options(repr.matrix.max.rows=600, repr.matrix.max.cols=200)\n",
    "head(data)"
   ]
  },
  {
   "cell_type": "code",
   "execution_count": null,
   "metadata": {},
   "outputs": [],
   "source": []
  },
  {
   "cell_type": "code",
   "execution_count": 5,
   "metadata": {
    "hideCode": false,
    "hidePrompt": false
   },
   "outputs": [
    {
     "data": {
      "text/plain": [
       "   Min. 1st Qu.  Median    Mean 3rd Qu.    Max. \n",
       " -1.000   4.000   8.000   9.182  13.000  21.000 "
      ]
     },
     "metadata": {},
     "output_type": "display_data"
    }
   ],
   "source": [
    "#hist(data$tree_dbh)\n",
    "data = data[data$tree_dbh < (3*sd(data$tree_dbh)),]\n",
    "summary(data$tree_dbh)"
   ]
  },
  {
   "cell_type": "markdown",
   "metadata": {},
   "source": [
    "### Regression Tree for tree_dbh\n",
    "This initial tree will be looking at the raw tree_dbh"
   ]
  },
  {
   "cell_type": "code",
   "execution_count": 6,
   "metadata": {},
   "outputs": [
    {
     "name": "stdout",
     "output_type": "stream",
     "text": [
      "Call:\n",
      "rpart(formula = tree_dbh ~ sidw_crack + healthstatus + inf_guard + \n",
      "    MeanCommute + boro_ct + Employed, data = data)\n",
      "  n= 889981 \n",
      "\n",
      "          CP nsplit rel error    xerror        xstd\n",
      "1 0.04935033      0 1.0000000 1.0000029 0.001136912\n",
      "2 0.02697468      1 0.9506497 0.9506534 0.001102201\n",
      "3 0.01000000      2 0.9236750 0.9236809 0.001111162\n",
      "\n",
      "Variable importance\n",
      "healthstatus   sidw_crack \n",
      "          65           35 \n",
      "\n",
      "Node number 1: 889981 observations,    complexity param=0.04935033\n",
      "  mean=9.18164, MSE=30.05793 \n",
      "  left son=2 (32517 obs) right son=3 (857464 obs)\n",
      "  Primary splits:\n",
      "      healthstatus splits as  RLRRL,        improve=0.049350330, (0 missing)\n",
      "      sidw_crack   splits as  LR,           improve=0.027168950, (26358 missing)\n",
      "      boro_ct      < 2024350  to the left,  improve=0.011183690, (60705 missing)\n",
      "      MeanCommute  < 34.30339 to the left,  improve=0.004538525, (33013 missing)\n",
      "      inf_guard    splits as  RL,           improve=0.003515917, (26358 missing)\n",
      "\n",
      "Node number 2: 32517 observations\n",
      "  mean=2.927361, MSE=18.48782 \n",
      "\n",
      "Node number 3: 857464 observations,    complexity param=0.02697468\n",
      "  mean=9.418816, MSE=28.95707 \n",
      "  left son=6 (672468 obs) right son=7 (184996 obs)\n",
      "  Primary splits:\n",
      "      sidw_crack  splits as  LR,           improve=0.029061910, (1 missing)\n",
      "      boro_ct     < 2024350  to the left,  improve=0.012223410, (59983 missing)\n",
      "      MeanCommute < 34.30339 to the left,  improve=0.005240388, (31865 missing)\n",
      "      Employed    < 2819.803 to the right, improve=0.004064945, (12 missing)\n",
      "      inf_guard   splits as  RL,           improve=0.003918428, (1 missing)\n",
      "  Surrogate splits:\n",
      "      healthstatus splits as  R-LL-, agree=0.784, adj=0, (1 split)\n",
      "\n",
      "Node number 6: 672468 observations\n",
      "  mean=8.937661, MSE=27.94796 \n",
      "\n",
      "Node number 7: 184996 observations\n",
      "  mean=11.16784, MSE=28.72459 \n",
      "\n"
     ]
    }
   ],
   "source": [
    "raw_cart = rpart(tree_dbh ~ sidw_crack + healthstatus + inf_guard + MeanCommute + boro_ct + Employed, data = data)\n",
    "\n",
    "summary(raw_cart)"
   ]
  },
  {
   "cell_type": "code",
   "execution_count": 7,
   "metadata": {},
   "outputs": [
    {
     "data": {
      "image/png": "[encoded data removed]",
      "text/plain": [
       "plot without title"
      ]
     },
     "metadata": {},
     "output_type": "display_data"
    }
   ],
   "source": [
    "rpart.plot(raw_cart, yesno=1, fallen.leaves=TRUE, under = TRUE, box.palette = \"Blues\", branch.lty = 3, shadow.col = \"gray\")"
   ]
  },
  {
   "cell_type": "markdown",
   "metadata": {},
   "source": [
    "### Classification Tree for tree_dbh\n",
    "Creating classification for tree_dbh to split into 'big' and 'small' groups "
   ]
  },
  {
   "cell_type": "code",
   "execution_count": 22,
   "metadata": {},
   "outputs": [
    {
     "data": {
      "text/html": [
       "<dl class=dl-horizontal>\n",
       "\t<dt>big</dt>\n",
       "\t\t<dd>491714</dd>\n",
       "\t<dt>small</dt>\n",
       "\t\t<dd>398267</dd>\n",
       "</dl>\n"
      ],
      "text/latex": [
       "\\begin{description*}\n",
       "\\item[big] 491714\n",
       "\\item[small] 398267\n",
       "\\end{description*}\n"
      ],
      "text/markdown": [
       "big\n",
       ":   491714small\n",
       ":   398267\n",
       "\n"
      ],
      "text/plain": [
       "   big  small \n",
       "491714 398267 "
      ]
     },
     "metadata": {},
     "output_type": "display_data"
    }
   ],
   "source": [
    "set.seed(42)\n",
    "data$dbh_avg = as.factor(ifelse(data$tree_dbh >=8 , \"big\", \"small\"))\n",
    "summary(data$dbh_avg)\n",
    "\n",
    "part = createDataPartition(data$dbh_avg, p = 0.80, list = FALSE)\n",
    "train = data[part,]\n",
    "test = data[-part,]\n"
   ]
  },
  {
   "cell_type": "code",
   "execution_count": 26,
   "metadata": {},
   "outputs": [
    {
     "data": {
      "text/html": [
       "<ol class=list-inline>\n",
       "\t<li>'ntaname_full'</li>\n",
       "\t<li>'nta'</li>\n",
       "\t<li>'nta_name'</li>\n",
       "\t<li>'boro_ct'</li>\n",
       "\t<li>'borocode'</li>\n",
       "\t<li>'boroname'</li>\n",
       "\t<li>'cncldist'</li>\n",
       "\t<li>'inf_guard'</li>\n",
       "\t<li>'inf_shoes'</li>\n",
       "\t<li>'latitude'</li>\n",
       "\t<li>'longitude'</li>\n",
       "\t<li>'sidw_crack'</li>\n",
       "\t<li>'st_assem'</li>\n",
       "\t<li>'st_senate'</li>\n",
       "\t<li>'healthstatus'</li>\n",
       "\t<li>'tree_dbh'</li>\n",
       "\t<li>'x_sp'</li>\n",
       "\t<li>'y_sp'</li>\n",
       "\t<li>'zip_city'</li>\n",
       "\t<li>'zipcode'</li>\n",
       "\t<li>'year'</li>\n",
       "\t<li>'income'</li>\n",
       "\t<li>'education'</li>\n",
       "\t<li>'population'</li>\n",
       "\t<li>'unemployment'</li>\n",
       "\t<li>'popDensity'</li>\n",
       "\t<li>'laborforce'</li>\n",
       "\t<li>'poverty'</li>\n",
       "\t<li>'diversity'</li>\n",
       "\t<li>'genus'</li>\n",
       "\t<li>'species'</li>\n",
       "\t<li>'TotalPop'</li>\n",
       "\t<li>'Men'</li>\n",
       "\t<li>'Women'</li>\n",
       "\t<li>'Hispanic'</li>\n",
       "\t<li>'White'</li>\n",
       "\t<li>'Black'</li>\n",
       "\t<li>'Native'</li>\n",
       "\t<li>'Asian'</li>\n",
       "\t<li>'Citizen'</li>\n",
       "\t<li>'Income'</li>\n",
       "\t<li>'IncomeErr'</li>\n",
       "\t<li>'IncomePerCap'</li>\n",
       "\t<li>'IncomePerCapErr'</li>\n",
       "\t<li>'Poverty'</li>\n",
       "\t<li>'ChildPoverty'</li>\n",
       "\t<li>'Professional'</li>\n",
       "\t<li>'Service'</li>\n",
       "\t<li>'Office'</li>\n",
       "\t<li>'Construction'</li>\n",
       "\t<li>'Production'</li>\n",
       "\t<li>'Drive'</li>\n",
       "\t<li>'Carpool'</li>\n",
       "\t<li>'Transit'</li>\n",
       "\t<li>'Walk'</li>\n",
       "\t<li>'OtherTransp'</li>\n",
       "\t<li>'WorkAtHome'</li>\n",
       "\t<li>'MeanCommute'</li>\n",
       "\t<li>'Employed'</li>\n",
       "\t<li>'PrivateWork'</li>\n",
       "\t<li>'PublicWork'</li>\n",
       "\t<li>'SelfEmployed'</li>\n",
       "\t<li>'FamilyWork'</li>\n",
       "\t<li>'Unemployment'</li>\n",
       "\t<li>'dbh_avg'</li>\n",
       "</ol>\n"
      ],
      "text/latex": [
       "\\begin{enumerate*}\n",
       "\\item 'ntaname\\_full'\n",
       "\\item 'nta'\n",
       "\\item 'nta\\_name'\n",
       "\\item 'boro\\_ct'\n",
       "\\item 'borocode'\n",
       "\\item 'boroname'\n",
       "\\item 'cncldist'\n",
       "\\item 'inf\\_guard'\n",
       "\\item 'inf\\_shoes'\n",
       "\\item 'latitude'\n",
       "\\item 'longitude'\n",
       "\\item 'sidw\\_crack'\n",
       "\\item 'st\\_assem'\n",
       "\\item 'st\\_senate'\n",
       "\\item 'healthstatus'\n",
       "\\item 'tree\\_dbh'\n",
       "\\item 'x\\_sp'\n",
       "\\item 'y\\_sp'\n",
       "\\item 'zip\\_city'\n",
       "\\item 'zipcode'\n",
       "\\item 'year'\n",
       "\\item 'income'\n",
       "\\item 'education'\n",
       "\\item 'population'\n",
       "\\item 'unemployment'\n",
       "\\item 'popDensity'\n",
       "\\item 'laborforce'\n",
       "\\item 'poverty'\n",
       "\\item 'diversity'\n",
       "\\item 'genus'\n",
       "\\item 'species'\n",
       "\\item 'TotalPop'\n",
       "\\item 'Men'\n",
       "\\item 'Women'\n",
       "\\item 'Hispanic'\n",
       "\\item 'White'\n",
       "\\item 'Black'\n",
       "\\item 'Native'\n",
       "\\item 'Asian'\n",
       "\\item 'Citizen'\n",
       "\\item 'Income'\n",
       "\\item 'IncomeErr'\n",
       "\\item 'IncomePerCap'\n",
       "\\item 'IncomePerCapErr'\n",
       "\\item 'Poverty'\n",
       "\\item 'ChildPoverty'\n",
       "\\item 'Professional'\n",
       "\\item 'Service'\n",
       "\\item 'Office'\n",
       "\\item 'Construction'\n",
       "\\item 'Production'\n",
       "\\item 'Drive'\n",
       "\\item 'Carpool'\n",
       "\\item 'Transit'\n",
       "\\item 'Walk'\n",
       "\\item 'OtherTransp'\n",
       "\\item 'WorkAtHome'\n",
       "\\item 'MeanCommute'\n",
       "\\item 'Employed'\n",
       "\\item 'PrivateWork'\n",
       "\\item 'PublicWork'\n",
       "\\item 'SelfEmployed'\n",
       "\\item 'FamilyWork'\n",
       "\\item 'Unemployment'\n",
       "\\item 'dbh\\_avg'\n",
       "\\end{enumerate*}\n"
      ],
      "text/markdown": [
       "1. 'ntaname_full'\n",
       "2. 'nta'\n",
       "3. 'nta_name'\n",
       "4. 'boro_ct'\n",
       "5. 'borocode'\n",
       "6. 'boroname'\n",
       "7. 'cncldist'\n",
       "8. 'inf_guard'\n",
       "9. 'inf_shoes'\n",
       "10. 'latitude'\n",
       "11. 'longitude'\n",
       "12. 'sidw_crack'\n",
       "13. 'st_assem'\n",
       "14. 'st_senate'\n",
       "15. 'healthstatus'\n",
       "16. 'tree_dbh'\n",
       "17. 'x_sp'\n",
       "18. 'y_sp'\n",
       "19. 'zip_city'\n",
       "20. 'zipcode'\n",
       "21. 'year'\n",
       "22. 'income'\n",
       "23. 'education'\n",
       "24. 'population'\n",
       "25. 'unemployment'\n",
       "26. 'popDensity'\n",
       "27. 'laborforce'\n",
       "28. 'poverty'\n",
       "29. 'diversity'\n",
       "30. 'genus'\n",
       "31. 'species'\n",
       "32. 'TotalPop'\n",
       "33. 'Men'\n",
       "34. 'Women'\n",
       "35. 'Hispanic'\n",
       "36. 'White'\n",
       "37. 'Black'\n",
       "38. 'Native'\n",
       "39. 'Asian'\n",
       "40. 'Citizen'\n",
       "41. 'Income'\n",
       "42. 'IncomeErr'\n",
       "43. 'IncomePerCap'\n",
       "44. 'IncomePerCapErr'\n",
       "45. 'Poverty'\n",
       "46. 'ChildPoverty'\n",
       "47. 'Professional'\n",
       "48. 'Service'\n",
       "49. 'Office'\n",
       "50. 'Construction'\n",
       "51. 'Production'\n",
       "52. 'Drive'\n",
       "53. 'Carpool'\n",
       "54. 'Transit'\n",
       "55. 'Walk'\n",
       "56. 'OtherTransp'\n",
       "57. 'WorkAtHome'\n",
       "58. 'MeanCommute'\n",
       "59. 'Employed'\n",
       "60. 'PrivateWork'\n",
       "61. 'PublicWork'\n",
       "62. 'SelfEmployed'\n",
       "63. 'FamilyWork'\n",
       "64. 'Unemployment'\n",
       "65. 'dbh_avg'\n",
       "\n",
       "\n"
      ],
      "text/plain": [
       " [1] \"ntaname_full\"    \"nta\"             \"nta_name\"        \"boro_ct\"        \n",
       " [5] \"borocode\"        \"boroname\"        \"cncldist\"        \"inf_guard\"      \n",
       " [9] \"inf_shoes\"       \"latitude\"        \"longitude\"       \"sidw_crack\"     \n",
       "[13] \"st_assem\"        \"st_senate\"       \"healthstatus\"    \"tree_dbh\"       \n",
       "[17] \"x_sp\"            \"y_sp\"            \"zip_city\"        \"zipcode\"        \n",
       "[21] \"year\"            \"income\"          \"education\"       \"population\"     \n",
       "[25] \"unemployment\"    \"popDensity\"      \"laborforce\"      \"poverty\"        \n",
       "[29] \"diversity\"       \"genus\"           \"species\"         \"TotalPop\"       \n",
       "[33] \"Men\"             \"Women\"           \"Hispanic\"        \"White\"          \n",
       "[37] \"Black\"           \"Native\"          \"Asian\"           \"Citizen\"        \n",
       "[41] \"Income\"          \"IncomeErr\"       \"IncomePerCap\"    \"IncomePerCapErr\"\n",
       "[45] \"Poverty\"         \"ChildPoverty\"    \"Professional\"    \"Service\"        \n",
       "[49] \"Office\"          \"Construction\"    \"Production\"      \"Drive\"          \n",
       "[53] \"Carpool\"         \"Transit\"         \"Walk\"            \"OtherTransp\"    \n",
       "[57] \"WorkAtHome\"      \"MeanCommute\"     \"Employed\"        \"PrivateWork\"    \n",
       "[61] \"PublicWork\"      \"SelfEmployed\"    \"FamilyWork\"      \"Unemployment\"   \n",
       "[65] \"dbh_avg\"        "
      ]
     },
     "metadata": {},
     "output_type": "display_data"
    }
   ],
   "source": [
    "colnames(data)"
   ]
  },
  {
   "cell_type": "code",
   "execution_count": 32,
   "metadata": {},
   "outputs": [
    {
     "name": "stdout",
     "output_type": "stream",
     "text": [
      "Call:\n",
      "rpart(formula = dbh_avg ~ sidw_crack + healthstatus + inf_guard + \n",
      "    MeanCommute + boro_ct + Employed, data = train)\n",
      "  n= 711986 \n",
      "\n",
      "          CP nsplit rel error    xerror        xstd\n",
      "1 0.06013232      0 1.0000000 1.0000000 0.001316842\n",
      "2 0.01576830      1 0.9398677 0.9398677 0.001307355\n",
      "3 0.01000000      3 0.9083311 0.9083311 0.001300792\n",
      "\n",
      "Variable importance\n",
      "healthstatus   sidw_crack      boro_ct  MeanCommute     Employed \n",
      "          48           40            9            2            2 \n",
      "\n",
      "Node number 1: 711986 observations,    complexity param=0.06013232\n",
      "  predicted class=big    expected loss=0.4475004  P(node) =1\n",
      "    class counts: 393372 318614\n",
      "   probabilities: 0.552 0.448 \n",
      "  left son=2 (685893 obs) right son=3 (26093 obs)\n",
      "  Primary splits:\n",
      "      healthstatus splits as  LRLLR,        improve=9538.9280, (0 missing)\n",
      "      sidw_crack   splits as  RL,           improve=8040.4930, (21140 missing)\n",
      "      boro_ct      < 2024350  to the right, improve=2642.6660, (48513 missing)\n",
      "      MeanCommute  < 51.87274 to the left,  improve= 892.5158, (26463 missing)\n",
      "      inf_guard    splits as  LR,           improve= 653.1776, (21140 missing)\n",
      "\n",
      "Node number 2: 685893 observations,    complexity param=0.0157683\n",
      "  predicted class=big    expected loss=0.4315367  P(node) =0.9633518\n",
      "    class counts: 389905 295988\n",
      "   probabilities: 0.568 0.432 \n",
      "  left son=4 (148054 obs) right son=5 (537839 obs)\n",
      "  Primary splits:\n",
      "      sidw_crack  splits as  RL,           improve=7990.4060, (1 missing)\n",
      "      boro_ct     < 2024350  to the right, improve=2581.8490, (47923 missing)\n",
      "      MeanCommute < 36.31057 to the right, improve= 894.8941, (25543 missing)\n",
      "      inf_guard   splits as  LR,           improve= 677.4048, (1 missing)\n",
      "      Employed    < 2819.803 to the left,  improve= 322.9827, (11 missing)\n",
      "  Surrogate splits:\n",
      "      healthstatus splits as  L-RR-, agree=0.784, adj=0, (1 split)\n",
      "\n",
      "Node number 3: 26093 observations\n",
      "  predicted class=small  expected loss=0.1328709  P(node) =0.03664819\n",
      "    class counts:  3467 22626\n",
      "   probabilities: 0.133 0.867 \n",
      "\n",
      "Node number 4: 148054 observations\n",
      "  predicted class=big    expected loss=0.2860713  P(node) =0.2079451\n",
      "    class counts: 105700 42354\n",
      "   probabilities: 0.714 0.286 \n",
      "\n",
      "Node number 5: 537839 observations,    complexity param=0.0157683\n",
      "  predicted class=big    expected loss=0.4715798  P(node) =0.7554067\n",
      "    class counts: 284205 253634\n",
      "   probabilities: 0.528 0.472 \n",
      "  left son=10 (469923 obs) right son=11 (67916 obs)\n",
      "  Primary splits:\n",
      "      boro_ct      < 2024350  to the right, improve=1829.467000, (43513 missing)\n",
      "      inf_guard    splits as  LR,           improve= 784.791100, (0 missing)\n",
      "      MeanCommute  < 51.87274 to the left,  improve= 701.042400, (19526 missing)\n",
      "      Employed     < 2819.803 to the left,  improve= 185.453500, (11 missing)\n",
      "      healthstatus splits as  --RL-,        improve=   2.793087, (0 missing)\n",
      "  Surrogate splits:\n",
      "      MeanCommute < 31.00774 to the right, agree=0.889, adj=0.191, (40211 split)\n",
      "      Employed    < 3968.5   to the left,  agree=0.886, adj=0.169, (3302 split)\n",
      "\n",
      "Node number 10: 469923 observations\n",
      "  predicted class=big    expected loss=0.4567812  P(node) =0.6600172\n",
      "    class counts: 255271 214652\n",
      "   probabilities: 0.543 0.457 \n",
      "\n",
      "Node number 11: 67916 observations\n",
      "  predicted class=small  expected loss=0.4260263  P(node) =0.09538952\n",
      "    class counts: 28934 38982\n",
      "   probabilities: 0.426 0.574 \n",
      "\n"
     ]
    }
   ],
   "source": [
    "class_cart <- rpart(dbh_avg ~ sidw_crack + healthstatus + inf_guard + MeanCommute + boro_ct + Employed, data = train)\n",
    "\n",
    "summary(class_cart)"
   ]
  },
  {
   "cell_type": "code",
   "execution_count": 33,
   "metadata": {},
   "outputs": [
    {
     "data": {
      "image/png": "[encoded data removed]",
      "text/plain": [
       "plot without title"
      ]
     },
     "metadata": {},
     "output_type": "display_data"
    }
   ],
   "source": [
    "rpart.plot(class_cart, yesno=1, fallen.leaves=TRUE, under = TRUE, box.palette = \"Blues\", branch.lty = 3, shadow.col = \"gray\")"
   ]
  },
  {
   "cell_type": "code",
   "execution_count": 17,
   "metadata": {},
   "outputs": [
    {
     "data": {
      "text/html": [
       "0.593521501827283"
      ],
      "text/latex": [
       "0.593521501827283"
      ],
      "text/markdown": [
       "0.593521501827283"
      ],
      "text/plain": [
       "[1] 0.5935215"
      ]
     },
     "metadata": {},
     "output_type": "display_data"
    },
    {
     "data": {
      "text/html": [
       "0.59317396556083"
      ],
      "text/latex": [
       "0.59317396556083"
      ],
      "text/markdown": [
       "0.59317396556083"
      ],
      "text/plain": [
       "[1] 0.593174"
      ]
     },
     "metadata": {},
     "output_type": "display_data"
    }
   ],
   "source": [
    "#Train prediction accuracy\n",
    "train_predict = predict(class_cart, train, type = \"class\")\n",
    "mean(train_predict == train$dbh_avg) \n",
    "\n",
    "#Test prediction accuracy\n",
    "test_predict = predict(class_cart, test, type = \"class\")\n",
    "mean(test_predict == test$dbh_avg)"
   ]
  },
  {
   "cell_type": "code",
   "execution_count": 19,
   "metadata": {},
   "outputs": [
    {
     "data": {
      "text/plain": [
       "         actual\n",
       "predicted    big  small\n",
       "    big   360971 257006\n",
       "    small  32401  61608"
      ]
     },
     "metadata": {},
     "output_type": "display_data"
    },
    {
     "data": {
      "text/html": [
       "0.655341509855439"
      ],
      "text/latex": [
       "0.655341509855439"
      ],
      "text/markdown": [
       "0.655341509855439"
      ],
      "text/plain": [
       "[1] 0.6553415"
      ]
     },
     "metadata": {},
     "output_type": "display_data"
    },
    {
     "data": {
      "text/html": [
       "0.193362501333902"
      ],
      "text/latex": [
       "0.193362501333902"
      ],
      "text/markdown": [
       "0.193362501333902"
      ],
      "text/plain": [
       "[1] 0.1933625"
      ]
     },
     "metadata": {},
     "output_type": "display_data"
    },
    {
     "data": {
      "text/html": [
       "0.298616412560618"
      ],
      "text/latex": [
       "0.298616412560618"
      ],
      "text/markdown": [
       "0.298616412560618"
      ],
      "text/plain": [
       "[1] 0.2986164"
      ]
     },
     "metadata": {},
     "output_type": "display_data"
    }
   ],
   "source": [
    "#Confusion Matrix, etc.\n",
    "confusion_matrix <- table(predicted = train_predict, actual = train$dbh_avg)\n",
    "confusion_matrix\n",
    "\n",
    "precision <- confusion_matrix[2,2]/sum(confusion_matrix[2,]) #precision - 0.65\n",
    "precision\n",
    "\n",
    "recall <- confusion_matrix[2,2]/sum(confusion_matrix[,2]) #recall - 0.19\n",
    "recall\n",
    "\n",
    "F1score <- 2 * ((precision * recall)/(precision + recall)) #F1 score - 0.30\n",
    "F1score"
   ]
  }
 ],
 "metadata": {
  "hide_code_all_hidden": false,
  "kernelspec": {
   "display_name": "R",
   "language": "R",
   "name": "ir"
  },
  "language_info": {
   "codemirror_mode": "r",
   "file_extension": ".r",
   "mimetype": "text/x-r-source",
   "name": "R",
   "pygments_lexer": "r",
   "version": "3.6.1"
  }
 },
 "nbformat": 4,
 "nbformat_minor": 4
}
