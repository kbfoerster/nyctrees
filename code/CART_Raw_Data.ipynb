{
 "cells": [
  {
   "cell_type": "markdown",
   "metadata": {},
   "source": [
    "## Healthstatus Classification\n",
    "The goal of this will be to classify our existing trees based on the 'healthstatus' attribute"
   ]
  },
  {
   "cell_type": "code",
   "execution_count": 2,
   "metadata": {
    "hideCode": false,
    "hidePrompt": false
   },
   "outputs": [
    {
     "name": "stderr",
     "output_type": "stream",
     "text": [
      "Warning message:\n",
      "\"package 'here' was built under R version 3.6.3\"here() starts at D:/nyctrees\n"
     ]
    }
   ],
   "source": [
    "library(rpart)\n",
    "library(rpart.plot)\n",
    "library(ggplot2)\n",
    "library(caret)\n",
    "library(here)\n",
    "\n",
    "data = read.csv(here(\"data\",\"2015_data.csv\"))"
   ]
  },
  {
   "cell_type": "code",
   "execution_count": 3,
   "metadata": {
    "hideCode": false,
    "hidePrompt": false,
    "scrolled": true
   },
   "outputs": [
    {
     "data": {
      "text/html": [
       "<table>\n",
       "<thead><tr><th scope=col>ntaname_full</th><th scope=col>nta</th><th scope=col>boro_ct</th><th scope=col>borocode</th><th scope=col>boroname</th><th scope=col>cncldist</th><th scope=col>inf_guard</th><th scope=col>inf_shoes</th><th scope=col>latitude</th><th scope=col>longitude</th><th scope=col>sidw_crack</th><th scope=col>st_assem</th><th scope=col>st_senate</th><th scope=col>healthstatus</th><th scope=col>tree_dbh</th><th scope=col>x_sp</th><th scope=col>y_sp</th><th scope=col>zip_city</th><th scope=col>zipcode</th><th scope=col>genus</th><th scope=col>species</th><th scope=col>TotalPop</th><th scope=col>Men</th><th scope=col>Women</th><th scope=col>Hispanic</th><th scope=col>White</th><th scope=col>Black</th><th scope=col>Native</th><th scope=col>Asian</th><th scope=col>Citizen</th><th scope=col>Income</th><th scope=col>IncomeErr</th><th scope=col>IncomePerCap</th><th scope=col>IncomePerCapErr</th><th scope=col>Poverty</th><th scope=col>ChildPoverty</th><th scope=col>Professional</th><th scope=col>Service</th><th scope=col>Office</th><th scope=col>Construction</th><th scope=col>Production</th><th scope=col>Drive</th><th scope=col>Carpool</th><th scope=col>Transit</th><th scope=col>Walk</th><th scope=col>OtherTransp</th><th scope=col>WorkAtHome</th><th scope=col>MeanCommute</th><th scope=col>Employed</th><th scope=col>PrivateWork</th><th scope=col>PublicWork</th><th scope=col>SelfEmployed</th><th scope=col>FamilyWork</th><th scope=col>Unemployment</th></tr></thead>\n",
       "<tbody>\n",
       "\t<tr><td>Allerton-Pelham Gardens</td><td>BX31                   </td><td>2031200                </td><td>2                      </td><td>Bronx                  </td><td>13                     </td><td>No                     </td><td>No                     </td><td>40.86346               </td><td>-73.84218              </td><td>No                     </td><td>80                     </td><td>34                     </td><td>Good                   </td><td>13                     </td><td>1027903                </td><td>253900.5               </td><td>Bronx                  </td><td>10469                  </td><td>ginkgo                 </td><td>biloba                 </td><td>3432.5                 </td><td>1576.357               </td><td>1856.143               </td><td>29.08333               </td><td>28.52619               </td><td>30.31905               </td><td>0                      </td><td>9.333333               </td><td>2405.762               </td><td>64269.24               </td><td>11775.45               </td><td>25223.55               </td><td>3728.381               </td><td>12.20238               </td><td>17.38571               </td><td>34.81905               </td><td>23.7119                </td><td>23.15476               </td><td>8.564286               </td><td>9.733333               </td><td>43.53571               </td><td>8.311905               </td><td>40.14286               </td><td>3.859524               </td><td>1.292857               </td><td>2.878571               </td><td>40.75476               </td><td>1412.762               </td><td>78.36429               </td><td>17.85476               </td><td>3.638095               </td><td>0.1714286              </td><td>12.19048               </td></tr>\n",
       "\t<tr><td>Allerton-Pelham Gardens</td><td>BX31                   </td><td>2035000                </td><td>2                      </td><td>Bronx                  </td><td>12                     </td><td>No                     </td><td>No                     </td><td>40.86875               </td><td>-73.84890              </td><td>No                     </td><td>80                     </td><td>36                     </td><td>Good                   </td><td> 1                     </td><td>1026041                </td><td>255823.2               </td><td>Bronx                  </td><td>10469                  </td><td>picea                  </td><td>triacanthos            </td><td>3432.5                 </td><td>1576.357               </td><td>1856.143               </td><td>29.08333               </td><td>28.52619               </td><td>30.31905               </td><td>0                      </td><td>9.333333               </td><td>2405.762               </td><td>64269.24               </td><td>11775.45               </td><td>25223.55               </td><td>3728.381               </td><td>12.20238               </td><td>17.38571               </td><td>34.81905               </td><td>23.7119                </td><td>23.15476               </td><td>8.564286               </td><td>9.733333               </td><td>43.53571               </td><td>8.311905               </td><td>40.14286               </td><td>3.859524               </td><td>1.292857               </td><td>2.878571               </td><td>40.75476               </td><td>1412.762               </td><td>78.36429               </td><td>17.85476               </td><td>3.638095               </td><td>0.1714286              </td><td>12.19048               </td></tr>\n",
       "\t<tr><td>Allerton-Pelham Gardens</td><td>BX31                   </td><td>2036000                </td><td>2                      </td><td>Bronx                  </td><td>12                     </td><td>No                     </td><td>No                     </td><td>40.86816               </td><td>-73.84270              </td><td>No                     </td><td>83                     </td><td>36                     </td><td>Good                   </td><td>19                     </td><td>1027756                </td><td>255609.5               </td><td>Bronx                  </td><td>10469                  </td><td>platanus               </td><td>acerifolia             </td><td>3432.5                 </td><td>1576.357               </td><td>1856.143               </td><td>29.08333               </td><td>28.52619               </td><td>30.31905               </td><td>0                      </td><td>9.333333               </td><td>2405.762               </td><td>64269.24               </td><td>11775.45               </td><td>25223.55               </td><td>3728.381               </td><td>12.20238               </td><td>17.38571               </td><td>34.81905               </td><td>23.7119                </td><td>23.15476               </td><td>8.564286               </td><td>9.733333               </td><td>43.53571               </td><td>8.311905               </td><td>40.14286               </td><td>3.859524               </td><td>1.292857               </td><td>2.878571               </td><td>40.75476               </td><td>1412.762               </td><td>78.36429               </td><td>17.85476               </td><td>3.638095               </td><td>0.1714286              </td><td>12.19048               </td></tr>\n",
       "\t<tr><td>Allerton-Pelham Gardens</td><td>BX31                   </td><td>2031800                </td><td>2                      </td><td>Bronx                  </td><td>13                     </td><td>No                     </td><td>No                     </td><td>40.86470               </td><td>-73.85190              </td><td>No                     </td><td>80                     </td><td>34                     </td><td>Good                   </td><td> 8                     </td><td>1025214                </td><td>254344.6               </td><td>Bronx                  </td><td>10469                  </td><td>prunus                 </td><td>calleryana             </td><td>3432.5                 </td><td>1576.357               </td><td>1856.143               </td><td>29.08333               </td><td>28.52619               </td><td>30.31905               </td><td>0                      </td><td>9.333333               </td><td>2405.762               </td><td>64269.24               </td><td>11775.45               </td><td>25223.55               </td><td>3728.381               </td><td>12.20238               </td><td>17.38571               </td><td>34.81905               </td><td>23.7119                </td><td>23.15476               </td><td>8.564286               </td><td>9.733333               </td><td>43.53571               </td><td>8.311905               </td><td>40.14286               </td><td>3.859524               </td><td>1.292857               </td><td>2.878571               </td><td>40.75476               </td><td>1412.762               </td><td>78.36429               </td><td>17.85476               </td><td>3.638095               </td><td>0.1714286              </td><td>12.19048               </td></tr>\n",
       "\t<tr><td>Allerton-Pelham Gardens</td><td>BX31                   </td><td>2034800                </td><td>2                      </td><td>Bronx                  </td><td>13                     </td><td>No                     </td><td>No                     </td><td>40.86609               </td><td>-73.85482              </td><td>Yes                    </td><td>80                     </td><td>36                     </td><td>Good                   </td><td>25                     </td><td>1024407                </td><td>254852.1               </td><td>Bronx                  </td><td>10469                  </td><td>fraxinus               </td><td>pennsylvanica          </td><td>3432.5                 </td><td>1576.357               </td><td>1856.143               </td><td>29.08333               </td><td>28.52619               </td><td>30.31905               </td><td>0                      </td><td>9.333333               </td><td>2405.762               </td><td>64269.24               </td><td>11775.45               </td><td>25223.55               </td><td>3728.381               </td><td>12.20238               </td><td>17.38571               </td><td>34.81905               </td><td>23.7119                </td><td>23.15476               </td><td>8.564286               </td><td>9.733333               </td><td>43.53571               </td><td>8.311905               </td><td>40.14286               </td><td>3.859524               </td><td>1.292857               </td><td>2.878571               </td><td>40.75476               </td><td>1412.762               </td><td>78.36429               </td><td>17.85476               </td><td>3.638095               </td><td>0.1714286              </td><td>12.19048               </td></tr>\n",
       "\t<tr><td>Allerton-Pelham Gardens</td><td>BX31                   </td><td>2031400                </td><td>2                      </td><td>Bronx                  </td><td>13                     </td><td>No                     </td><td>No                     </td><td>40.86245               </td><td>-73.84532              </td><td>No                     </td><td>80                     </td><td>34                     </td><td>Good                   </td><td> 6                     </td><td>1027035                </td><td>253530.1               </td><td>Bronx                  </td><td>10469                  </td><td>tilia                  </td><td>cordata                </td><td>3432.5                 </td><td>1576.357               </td><td>1856.143               </td><td>29.08333               </td><td>28.52619               </td><td>30.31905               </td><td>0                      </td><td>9.333333               </td><td>2405.762               </td><td>64269.24               </td><td>11775.45               </td><td>25223.55               </td><td>3728.381               </td><td>12.20238               </td><td>17.38571               </td><td>34.81905               </td><td>23.7119                </td><td>23.15476               </td><td>8.564286               </td><td>9.733333               </td><td>43.53571               </td><td>8.311905               </td><td>40.14286               </td><td>3.859524               </td><td>1.292857               </td><td>2.878571               </td><td>40.75476               </td><td>1412.762               </td><td>78.36429               </td><td>17.85476               </td><td>3.638095               </td><td>0.1714286              </td><td>12.19048               </td></tr>\n",
       "</tbody>\n",
       "</table>\n"
      ],
      "text/latex": [
       "\\begin{tabular}{r|llllllllllllllllllllllllllllllllllllllllllllllllllllll}\n",
       " ntaname\\_full & nta & boro\\_ct & borocode & boroname & cncldist & inf\\_guard & inf\\_shoes & latitude & longitude & sidw\\_crack & st\\_assem & st\\_senate & healthstatus & tree\\_dbh & x\\_sp & y\\_sp & zip\\_city & zipcode & genus & species & TotalPop & Men & Women & Hispanic & White & Black & Native & Asian & Citizen & Income & IncomeErr & IncomePerCap & IncomePerCapErr & Poverty & ChildPoverty & Professional & Service & Office & Construction & Production & Drive & Carpool & Transit & Walk & OtherTransp & WorkAtHome & MeanCommute & Employed & PrivateWork & PublicWork & SelfEmployed & FamilyWork & Unemployment\\\\\n",
       "\\hline\n",
       "\t Allerton-Pelham Gardens & BX31                    & 2031200                 & 2                       & Bronx                   & 13                      & No                      & No                      & 40.86346                & -73.84218               & No                      & 80                      & 34                      & Good                    & 13                      & 1027903                 & 253900.5                & Bronx                   & 10469                   & ginkgo                  & biloba                  & 3432.5                  & 1576.357                & 1856.143                & 29.08333                & 28.52619                & 30.31905                & 0                       & 9.333333                & 2405.762                & 64269.24                & 11775.45                & 25223.55                & 3728.381                & 12.20238                & 17.38571                & 34.81905                & 23.7119                 & 23.15476                & 8.564286                & 9.733333                & 43.53571                & 8.311905                & 40.14286                & 3.859524                & 1.292857                & 2.878571                & 40.75476                & 1412.762                & 78.36429                & 17.85476                & 3.638095                & 0.1714286               & 12.19048               \\\\\n",
       "\t Allerton-Pelham Gardens & BX31                    & 2035000                 & 2                       & Bronx                   & 12                      & No                      & No                      & 40.86875                & -73.84890               & No                      & 80                      & 36                      & Good                    &  1                      & 1026041                 & 255823.2                & Bronx                   & 10469                   & picea                   & triacanthos             & 3432.5                  & 1576.357                & 1856.143                & 29.08333                & 28.52619                & 30.31905                & 0                       & 9.333333                & 2405.762                & 64269.24                & 11775.45                & 25223.55                & 3728.381                & 12.20238                & 17.38571                & 34.81905                & 23.7119                 & 23.15476                & 8.564286                & 9.733333                & 43.53571                & 8.311905                & 40.14286                & 3.859524                & 1.292857                & 2.878571                & 40.75476                & 1412.762                & 78.36429                & 17.85476                & 3.638095                & 0.1714286               & 12.19048               \\\\\n",
       "\t Allerton-Pelham Gardens & BX31                    & 2036000                 & 2                       & Bronx                   & 12                      & No                      & No                      & 40.86816                & -73.84270               & No                      & 83                      & 36                      & Good                    & 19                      & 1027756                 & 255609.5                & Bronx                   & 10469                   & platanus                & acerifolia              & 3432.5                  & 1576.357                & 1856.143                & 29.08333                & 28.52619                & 30.31905                & 0                       & 9.333333                & 2405.762                & 64269.24                & 11775.45                & 25223.55                & 3728.381                & 12.20238                & 17.38571                & 34.81905                & 23.7119                 & 23.15476                & 8.564286                & 9.733333                & 43.53571                & 8.311905                & 40.14286                & 3.859524                & 1.292857                & 2.878571                & 40.75476                & 1412.762                & 78.36429                & 17.85476                & 3.638095                & 0.1714286               & 12.19048               \\\\\n",
       "\t Allerton-Pelham Gardens & BX31                    & 2031800                 & 2                       & Bronx                   & 13                      & No                      & No                      & 40.86470                & -73.85190               & No                      & 80                      & 34                      & Good                    &  8                      & 1025214                 & 254344.6                & Bronx                   & 10469                   & prunus                  & calleryana              & 3432.5                  & 1576.357                & 1856.143                & 29.08333                & 28.52619                & 30.31905                & 0                       & 9.333333                & 2405.762                & 64269.24                & 11775.45                & 25223.55                & 3728.381                & 12.20238                & 17.38571                & 34.81905                & 23.7119                 & 23.15476                & 8.564286                & 9.733333                & 43.53571                & 8.311905                & 40.14286                & 3.859524                & 1.292857                & 2.878571                & 40.75476                & 1412.762                & 78.36429                & 17.85476                & 3.638095                & 0.1714286               & 12.19048               \\\\\n",
       "\t Allerton-Pelham Gardens & BX31                    & 2034800                 & 2                       & Bronx                   & 13                      & No                      & No                      & 40.86609                & -73.85482               & Yes                     & 80                      & 36                      & Good                    & 25                      & 1024407                 & 254852.1                & Bronx                   & 10469                   & fraxinus                & pennsylvanica           & 3432.5                  & 1576.357                & 1856.143                & 29.08333                & 28.52619                & 30.31905                & 0                       & 9.333333                & 2405.762                & 64269.24                & 11775.45                & 25223.55                & 3728.381                & 12.20238                & 17.38571                & 34.81905                & 23.7119                 & 23.15476                & 8.564286                & 9.733333                & 43.53571                & 8.311905                & 40.14286                & 3.859524                & 1.292857                & 2.878571                & 40.75476                & 1412.762                & 78.36429                & 17.85476                & 3.638095                & 0.1714286               & 12.19048               \\\\\n",
       "\t Allerton-Pelham Gardens & BX31                    & 2031400                 & 2                       & Bronx                   & 13                      & No                      & No                      & 40.86245                & -73.84532               & No                      & 80                      & 34                      & Good                    &  6                      & 1027035                 & 253530.1                & Bronx                   & 10469                   & tilia                   & cordata                 & 3432.5                  & 1576.357                & 1856.143                & 29.08333                & 28.52619                & 30.31905                & 0                       & 9.333333                & 2405.762                & 64269.24                & 11775.45                & 25223.55                & 3728.381                & 12.20238                & 17.38571                & 34.81905                & 23.7119                 & 23.15476                & 8.564286                & 9.733333                & 43.53571                & 8.311905                & 40.14286                & 3.859524                & 1.292857                & 2.878571                & 40.75476                & 1412.762                & 78.36429                & 17.85476                & 3.638095                & 0.1714286               & 12.19048               \\\\\n",
       "\\end{tabular}\n"
      ],
      "text/markdown": [
       "\n",
       "| ntaname_full | nta | boro_ct | borocode | boroname | cncldist | inf_guard | inf_shoes | latitude | longitude | sidw_crack | st_assem | st_senate | healthstatus | tree_dbh | x_sp | y_sp | zip_city | zipcode | genus | species | TotalPop | Men | Women | Hispanic | White | Black | Native | Asian | Citizen | Income | IncomeErr | IncomePerCap | IncomePerCapErr | Poverty | ChildPoverty | Professional | Service | Office | Construction | Production | Drive | Carpool | Transit | Walk | OtherTransp | WorkAtHome | MeanCommute | Employed | PrivateWork | PublicWork | SelfEmployed | FamilyWork | Unemployment |\n",
       "|---|---|---|---|---|---|---|---|---|---|---|---|---|---|---|---|---|---|---|---|---|---|---|---|---|---|---|---|---|---|---|---|---|---|---|---|---|---|---|---|---|---|---|---|---|---|---|---|---|---|---|---|---|---|\n",
       "| Allerton-Pelham Gardens | BX31                    | 2031200                 | 2                       | Bronx                   | 13                      | No                      | No                      | 40.86346                | -73.84218               | No                      | 80                      | 34                      | Good                    | 13                      | 1027903                 | 253900.5                | Bronx                   | 10469                   | ginkgo                  | biloba                  | 3432.5                  | 1576.357                | 1856.143                | 29.08333                | 28.52619                | 30.31905                | 0                       | 9.333333                | 2405.762                | 64269.24                | 11775.45                | 25223.55                | 3728.381                | 12.20238                | 17.38571                | 34.81905                | 23.7119                 | 23.15476                | 8.564286                | 9.733333                | 43.53571                | 8.311905                | 40.14286                | 3.859524                | 1.292857                | 2.878571                | 40.75476                | 1412.762                | 78.36429                | 17.85476                | 3.638095                | 0.1714286               | 12.19048                |\n",
       "| Allerton-Pelham Gardens | BX31                    | 2035000                 | 2                       | Bronx                   | 12                      | No                      | No                      | 40.86875                | -73.84890               | No                      | 80                      | 36                      | Good                    |  1                      | 1026041                 | 255823.2                | Bronx                   | 10469                   | picea                   | triacanthos             | 3432.5                  | 1576.357                | 1856.143                | 29.08333                | 28.52619                | 30.31905                | 0                       | 9.333333                | 2405.762                | 64269.24                | 11775.45                | 25223.55                | 3728.381                | 12.20238                | 17.38571                | 34.81905                | 23.7119                 | 23.15476                | 8.564286                | 9.733333                | 43.53571                | 8.311905                | 40.14286                | 3.859524                | 1.292857                | 2.878571                | 40.75476                | 1412.762                | 78.36429                | 17.85476                | 3.638095                | 0.1714286               | 12.19048                |\n",
       "| Allerton-Pelham Gardens | BX31                    | 2036000                 | 2                       | Bronx                   | 12                      | No                      | No                      | 40.86816                | -73.84270               | No                      | 83                      | 36                      | Good                    | 19                      | 1027756                 | 255609.5                | Bronx                   | 10469                   | platanus                | acerifolia              | 3432.5                  | 1576.357                | 1856.143                | 29.08333                | 28.52619                | 30.31905                | 0                       | 9.333333                | 2405.762                | 64269.24                | 11775.45                | 25223.55                | 3728.381                | 12.20238                | 17.38571                | 34.81905                | 23.7119                 | 23.15476                | 8.564286                | 9.733333                | 43.53571                | 8.311905                | 40.14286                | 3.859524                | 1.292857                | 2.878571                | 40.75476                | 1412.762                | 78.36429                | 17.85476                | 3.638095                | 0.1714286               | 12.19048                |\n",
       "| Allerton-Pelham Gardens | BX31                    | 2031800                 | 2                       | Bronx                   | 13                      | No                      | No                      | 40.86470                | -73.85190               | No                      | 80                      | 34                      | Good                    |  8                      | 1025214                 | 254344.6                | Bronx                   | 10469                   | prunus                  | calleryana              | 3432.5                  | 1576.357                | 1856.143                | 29.08333                | 28.52619                | 30.31905                | 0                       | 9.333333                | 2405.762                | 64269.24                | 11775.45                | 25223.55                | 3728.381                | 12.20238                | 17.38571                | 34.81905                | 23.7119                 | 23.15476                | 8.564286                | 9.733333                | 43.53571                | 8.311905                | 40.14286                | 3.859524                | 1.292857                | 2.878571                | 40.75476                | 1412.762                | 78.36429                | 17.85476                | 3.638095                | 0.1714286               | 12.19048                |\n",
       "| Allerton-Pelham Gardens | BX31                    | 2034800                 | 2                       | Bronx                   | 13                      | No                      | No                      | 40.86609                | -73.85482               | Yes                     | 80                      | 36                      | Good                    | 25                      | 1024407                 | 254852.1                | Bronx                   | 10469                   | fraxinus                | pennsylvanica           | 3432.5                  | 1576.357                | 1856.143                | 29.08333                | 28.52619                | 30.31905                | 0                       | 9.333333                | 2405.762                | 64269.24                | 11775.45                | 25223.55                | 3728.381                | 12.20238                | 17.38571                | 34.81905                | 23.7119                 | 23.15476                | 8.564286                | 9.733333                | 43.53571                | 8.311905                | 40.14286                | 3.859524                | 1.292857                | 2.878571                | 40.75476                | 1412.762                | 78.36429                | 17.85476                | 3.638095                | 0.1714286               | 12.19048                |\n",
       "| Allerton-Pelham Gardens | BX31                    | 2031400                 | 2                       | Bronx                   | 13                      | No                      | No                      | 40.86245                | -73.84532               | No                      | 80                      | 34                      | Good                    |  6                      | 1027035                 | 253530.1                | Bronx                   | 10469                   | tilia                   | cordata                 | 3432.5                  | 1576.357                | 1856.143                | 29.08333                | 28.52619                | 30.31905                | 0                       | 9.333333                | 2405.762                | 64269.24                | 11775.45                | 25223.55                | 3728.381                | 12.20238                | 17.38571                | 34.81905                | 23.7119                 | 23.15476                | 8.564286                | 9.733333                | 43.53571                | 8.311905                | 40.14286                | 3.859524                | 1.292857                | 2.878571                | 40.75476                | 1412.762                | 78.36429                | 17.85476                | 3.638095                | 0.1714286               | 12.19048                |\n",
       "\n"
      ],
      "text/plain": [
       "  ntaname_full            nta  boro_ct borocode boroname cncldist inf_guard\n",
       "1 Allerton-Pelham Gardens BX31 2031200 2        Bronx    13       No       \n",
       "2 Allerton-Pelham Gardens BX31 2035000 2        Bronx    12       No       \n",
       "3 Allerton-Pelham Gardens BX31 2036000 2        Bronx    12       No       \n",
       "4 Allerton-Pelham Gardens BX31 2031800 2        Bronx    13       No       \n",
       "5 Allerton-Pelham Gardens BX31 2034800 2        Bronx    13       No       \n",
       "6 Allerton-Pelham Gardens BX31 2031400 2        Bronx    13       No       \n",
       "  inf_shoes latitude longitude sidw_crack st_assem st_senate healthstatus\n",
       "1 No        40.86346 -73.84218 No         80       34        Good        \n",
       "2 No        40.86875 -73.84890 No         80       36        Good        \n",
       "3 No        40.86816 -73.84270 No         83       36        Good        \n",
       "4 No        40.86470 -73.85190 No         80       34        Good        \n",
       "5 No        40.86609 -73.85482 Yes        80       36        Good        \n",
       "6 No        40.86245 -73.84532 No         80       34        Good        \n",
       "  tree_dbh x_sp    y_sp     zip_city zipcode genus    species       TotalPop\n",
       "1 13       1027903 253900.5 Bronx    10469   ginkgo   biloba        3432.5  \n",
       "2  1       1026041 255823.2 Bronx    10469   picea    triacanthos   3432.5  \n",
       "3 19       1027756 255609.5 Bronx    10469   platanus acerifolia    3432.5  \n",
       "4  8       1025214 254344.6 Bronx    10469   prunus   calleryana    3432.5  \n",
       "5 25       1024407 254852.1 Bronx    10469   fraxinus pennsylvanica 3432.5  \n",
       "6  6       1027035 253530.1 Bronx    10469   tilia    cordata       3432.5  \n",
       "  Men      Women    Hispanic White    Black    Native Asian    Citizen \n",
       "1 1576.357 1856.143 29.08333 28.52619 30.31905 0      9.333333 2405.762\n",
       "2 1576.357 1856.143 29.08333 28.52619 30.31905 0      9.333333 2405.762\n",
       "3 1576.357 1856.143 29.08333 28.52619 30.31905 0      9.333333 2405.762\n",
       "4 1576.357 1856.143 29.08333 28.52619 30.31905 0      9.333333 2405.762\n",
       "5 1576.357 1856.143 29.08333 28.52619 30.31905 0      9.333333 2405.762\n",
       "6 1576.357 1856.143 29.08333 28.52619 30.31905 0      9.333333 2405.762\n",
       "  Income   IncomeErr IncomePerCap IncomePerCapErr Poverty  ChildPoverty\n",
       "1 64269.24 11775.45  25223.55     3728.381        12.20238 17.38571    \n",
       "2 64269.24 11775.45  25223.55     3728.381        12.20238 17.38571    \n",
       "3 64269.24 11775.45  25223.55     3728.381        12.20238 17.38571    \n",
       "4 64269.24 11775.45  25223.55     3728.381        12.20238 17.38571    \n",
       "5 64269.24 11775.45  25223.55     3728.381        12.20238 17.38571    \n",
       "6 64269.24 11775.45  25223.55     3728.381        12.20238 17.38571    \n",
       "  Professional Service Office   Construction Production Drive    Carpool \n",
       "1 34.81905     23.7119 23.15476 8.564286     9.733333   43.53571 8.311905\n",
       "2 34.81905     23.7119 23.15476 8.564286     9.733333   43.53571 8.311905\n",
       "3 34.81905     23.7119 23.15476 8.564286     9.733333   43.53571 8.311905\n",
       "4 34.81905     23.7119 23.15476 8.564286     9.733333   43.53571 8.311905\n",
       "5 34.81905     23.7119 23.15476 8.564286     9.733333   43.53571 8.311905\n",
       "6 34.81905     23.7119 23.15476 8.564286     9.733333   43.53571 8.311905\n",
       "  Transit  Walk     OtherTransp WorkAtHome MeanCommute Employed PrivateWork\n",
       "1 40.14286 3.859524 1.292857    2.878571   40.75476    1412.762 78.36429   \n",
       "2 40.14286 3.859524 1.292857    2.878571   40.75476    1412.762 78.36429   \n",
       "3 40.14286 3.859524 1.292857    2.878571   40.75476    1412.762 78.36429   \n",
       "4 40.14286 3.859524 1.292857    2.878571   40.75476    1412.762 78.36429   \n",
       "5 40.14286 3.859524 1.292857    2.878571   40.75476    1412.762 78.36429   \n",
       "6 40.14286 3.859524 1.292857    2.878571   40.75476    1412.762 78.36429   \n",
       "  PublicWork SelfEmployed FamilyWork Unemployment\n",
       "1 17.85476   3.638095     0.1714286  12.19048    \n",
       "2 17.85476   3.638095     0.1714286  12.19048    \n",
       "3 17.85476   3.638095     0.1714286  12.19048    \n",
       "4 17.85476   3.638095     0.1714286  12.19048    \n",
       "5 17.85476   3.638095     0.1714286  12.19048    \n",
       "6 17.85476   3.638095     0.1714286  12.19048    "
      ]
     },
     "metadata": {},
     "output_type": "display_data"
    }
   ],
   "source": [
    "options(repr.matrix.max.rows=600, repr.matrix.max.cols=200)\n",
    "head(data)"
   ]
  },
  {
   "cell_type": "markdown",
   "metadata": {},
   "source": [
    "Based on the output below, we can see that we have a large class imbalance between the three levels. We'll take two approaches to address this issue. \n",
    "\n",
    "The first will  start with downsampling the data."
   ]
  },
  {
   "cell_type": "code",
   "execution_count": 7,
   "metadata": {
    "hideCode": false,
    "hidePrompt": false
   },
   "outputs": [
    {
     "data": {
      "text/html": [
       "<dl class=dl-horizontal>\n",
       "\t<dt>Dead</dt>\n",
       "\t\t<dd>13874</dd>\n",
       "\t<dt>Good</dt>\n",
       "\t\t<dd>590451</dd>\n",
       "\t<dt>Poor</dt>\n",
       "\t\t<dd>26283</dd>\n",
       "</dl>\n"
      ],
      "text/latex": [
       "\\begin{description*}\n",
       "\\item[Dead] 13874\n",
       "\\item[Good] 590451\n",
       "\\item[Poor] 26283\n",
       "\\end{description*}\n"
      ],
      "text/markdown": [
       "Dead\n",
       ":   13874Good\n",
       ":   590451Poor\n",
       ":   26283\n",
       "\n"
      ],
      "text/plain": [
       "  Dead   Good   Poor \n",
       " 13874 590451  26283 "
      ]
     },
     "metadata": {},
     "output_type": "display_data"
    }
   ],
   "source": [
    "summary(data$healthstatus)"
   ]
  },
  {
   "cell_type": "code",
   "execution_count": 8,
   "metadata": {},
   "outputs": [],
   "source": [
    "set.seed(42)\n",
    "down_data = downSample(data, data$healthstatus)\n",
    "part = createDataPartition(down_data$healthstatus, p = 0.80, list = FALSE)\n",
    "train = down_data[part,]\n",
    "test = down_data[-part,]"
   ]
  },
  {
   "cell_type": "code",
   "execution_count": 17,
   "metadata": {},
   "outputs": [
    {
     "data": {
      "text/html": [
       "<dl class=dl-horizontal>\n",
       "\t<dt>Dead</dt>\n",
       "\t\t<dd>11100</dd>\n",
       "\t<dt>Good</dt>\n",
       "\t\t<dd>11100</dd>\n",
       "\t<dt>Poor</dt>\n",
       "\t\t<dd>11100</dd>\n",
       "</dl>\n"
      ],
      "text/latex": [
       "\\begin{description*}\n",
       "\\item[Dead] 11100\n",
       "\\item[Good] 11100\n",
       "\\item[Poor] 11100\n",
       "\\end{description*}\n"
      ],
      "text/markdown": [
       "Dead\n",
       ":   11100Good\n",
       ":   11100Poor\n",
       ":   11100\n",
       "\n"
      ],
      "text/plain": [
       " Dead  Good  Poor \n",
       "11100 11100 11100 "
      ]
     },
     "metadata": {},
     "output_type": "display_data"
    }
   ],
   "source": [
    "summary(train$healthstatus)"
   ]
  },
  {
   "cell_type": "markdown",
   "metadata": {},
   "source": [
    "### Downsampling Tree\n",
    "After downsampling our data, we'll look at classifying for healthstatus on our data"
   ]
  },
  {
   "cell_type": "code",
   "execution_count": 10,
   "metadata": {},
   "outputs": [],
   "source": [
    "#raw_cart = rpart(tree_dbh ~ sidw_crack + healthstatus + inf_guard + MeanCommute + boro_ct + Employed, data = data)\n",
    "# removed tree_dbh, boro_ct(replaced with ntaname_full)\n",
    "down_health_cart = rpart(healthstatus ~ latitude + longitude + zipcode + st_assem + sidw_crack + st_senate + inf_guard, data = train)"
   ]
  },
  {
   "cell_type": "code",
   "execution_count": 11,
   "metadata": {},
   "outputs": [
    {
     "data": {
      "image/png": "[encoded data removed]",
      "text/plain": [
       "plot without title"
      ]
     },
     "metadata": {},
     "output_type": "display_data"
    }
   ],
   "source": [
    "rpart.plot(down_health_cart, yesno=1, fallen.leaves=TRUE, under = TRUE, box.palette = \"Blues\", branch.lty = 3, shadow.col = \"gray\")"
   ]
  },
  {
   "cell_type": "code",
   "execution_count": 47,
   "metadata": {},
   "outputs": [
    {
     "data": {
      "text/html": [
       "0.450900900900901"
      ],
      "text/latex": [
       "0.450900900900901"
      ],
      "text/markdown": [
       "0.450900900900901"
      ],
      "text/plain": [
       "[1] 0.4509009"
      ]
     },
     "metadata": {},
     "output_type": "display_data"
    },
    {
     "data": {
      "text/html": [
       "0.447368421052632"
      ],
      "text/latex": [
       "0.447368421052632"
      ],
      "text/markdown": [
       "0.447368421052632"
      ],
      "text/plain": [
       "[1] 0.4473684"
      ]
     },
     "metadata": {},
     "output_type": "display_data"
    }
   ],
   "source": [
    "#Train prediction accuracy\n",
    "train_predict = predict(down_health_cart, train, type = \"class\")\n",
    "mean(train_predict == train$healthstatus) \n",
    "\n",
    "#Test prediction accuracy\n",
    "test_predict = predict(down_health_cart, test, type = \"class\")\n",
    "mean(test_predict == test$healthstatus)"
   ]
  },
  {
   "cell_type": "code",
   "execution_count": 48,
   "metadata": {},
   "outputs": [
    {
     "data": {
      "text/plain": [
       "         actual\n",
       "predicted Dead Good Poor\n",
       "     Dead 2703 1766 1813\n",
       "     Good   58  740  681\n",
       "     Poor   13  268  280"
      ]
     },
     "metadata": {},
     "output_type": "display_data"
    },
    {
     "data": {
      "text/html": [
       "0.500338066260987"
      ],
      "text/latex": [
       "0.500338066260987"
      ],
      "text/markdown": [
       "0.500338066260987"
      ],
      "text/plain": [
       "[1] 0.5003381"
      ]
     },
     "metadata": {},
     "output_type": "display_data"
    },
    {
     "data": {
      "text/html": [
       "0.26676279740447"
      ],
      "text/latex": [
       "0.26676279740447"
      ],
      "text/markdown": [
       "0.26676279740447"
      ],
      "text/plain": [
       "[1] 0.2667628"
      ]
     },
     "metadata": {},
     "output_type": "display_data"
    },
    {
     "data": {
      "text/html": [
       "0.347989654361627"
      ],
      "text/latex": [
       "0.347989654361627"
      ],
      "text/markdown": [
       "0.347989654361627"
      ],
      "text/plain": [
       "[1] 0.3479897"
      ]
     },
     "metadata": {},
     "output_type": "display_data"
    }
   ],
   "source": [
    "#Confusion Matrix, etc.\n",
    "confusion_matrix <- table(predicted = test_predict, actual = test$healthstatus)\n",
    "confusion_matrix\n",
    "\n",
    "precision <- confusion_matrix[2,2]/sum(confusion_matrix[2,]) #precision - 0.50\n",
    "precision\n",
    "\n",
    "recall <- confusion_matrix[2,2]/sum(confusion_matrix[,2]) #recall - 0.27\n",
    "recall\n",
    "\n",
    "F1score <- 2 * ((precision * recall)/(precision + recall)) #F1 score - 0.35\n",
    "F1score"
   ]
  },
  {
   "cell_type": "code",
   "execution_count": 29,
   "metadata": {},
   "outputs": [],
   "source": [
    "down_health_cart2 = rpart(healthstatus ~ latitude + longitude + zipcode + st_assem + st_senate + sidw_crack + inf_guard + boro_ct + tree_dbh, data = train)"
   ]
  },
  {
   "cell_type": "code",
   "execution_count": 30,
   "metadata": {},
   "outputs": [
    {
     "data": {
      "image/png": "[encoded data removed]",
      "text/plain": [
       "plot without title"
      ]
     },
     "metadata": {},
     "output_type": "display_data"
    }
   ],
   "source": [
    "rpart.plot(down_health_cart2, yesno=1, fallen.leaves=TRUE, under = TRUE, box.palette = \"Blues\", branch.lty = 3, shadow.col = \"gray\")"
   ]
  },
  {
   "cell_type": "code",
   "execution_count": 45,
   "metadata": {},
   "outputs": [
    {
     "data": {
      "text/html": [
       "0.491771771771772"
      ],
      "text/latex": [
       "0.491771771771772"
      ],
      "text/markdown": [
       "0.491771771771772"
      ],
      "text/plain": [
       "[1] 0.4917718"
      ]
     },
     "metadata": {},
     "output_type": "display_data"
    },
    {
     "data": {
      "text/html": [
       "0.488103821196828"
      ],
      "text/latex": [
       "0.488103821196828"
      ],
      "text/markdown": [
       "0.488103821196828"
      ],
      "text/plain": [
       "[1] 0.4881038"
      ]
     },
     "metadata": {},
     "output_type": "display_data"
    }
   ],
   "source": [
    "#Train prediction accuracy\n",
    "train_predict = predict(down_health_cart2, train, type = \"class\")\n",
    "mean(train_predict == train$healthstatus) \n",
    "\n",
    "#Test prediction accuracy\n",
    "test_predict = predict(down_health_cart2, test, type = \"class\")\n",
    "mean(test_predict == test$healthstatus)"
   ]
  },
  {
   "cell_type": "code",
   "execution_count": 46,
   "metadata": {},
   "outputs": [
    {
     "data": {
      "text/plain": [
       "         actual\n",
       "predicted Dead Good Poor\n",
       "     Dead 1698  493  680\n",
       "     Good 1028 2108 1838\n",
       "     Poor   48  173  256"
      ]
     },
     "metadata": {},
     "output_type": "display_data"
    },
    {
     "data": {
      "text/html": [
       "0.423803779654202"
      ],
      "text/latex": [
       "0.423803779654202"
      ],
      "text/markdown": [
       "0.423803779654202"
      ],
      "text/plain": [
       "[1] 0.4238038"
      ]
     },
     "metadata": {},
     "output_type": "display_data"
    },
    {
     "data": {
      "text/html": [
       "0.759913482335977"
      ],
      "text/latex": [
       "0.759913482335977"
      ],
      "text/markdown": [
       "0.759913482335977"
      ],
      "text/plain": [
       "[1] 0.7599135"
      ]
     },
     "metadata": {},
     "output_type": "display_data"
    },
    {
     "data": {
      "text/html": [
       "0.544140423335054"
      ],
      "text/latex": [
       "0.544140423335054"
      ],
      "text/markdown": [
       "0.544140423335054"
      ],
      "text/plain": [
       "[1] 0.5441404"
      ]
     },
     "metadata": {},
     "output_type": "display_data"
    }
   ],
   "source": [
    "#Confusion Matrix, etc.\n",
    "confusion_matrix <- table(predicted = test_predict, actual = test$healthstatus)\n",
    "confusion_matrix\n",
    "\n",
    "precision <- confusion_matrix[2,2]/sum(confusion_matrix[2,]) #precision - 0.43\n",
    "precision\n",
    "\n",
    "recall <- confusion_matrix[2,2]/sum(confusion_matrix[,2]) #recall - 0.76\n",
    "recall\n",
    "\n",
    "F1score <- 2 * ((precision * recall)/(precision + recall)) #F1 score - 0.54\n",
    "F1score"
   ]
  },
  {
   "cell_type": "markdown",
   "metadata": {},
   "source": [
    "### Upsampling Tree"
   ]
  },
  {
   "cell_type": "code",
   "execution_count": 15,
   "metadata": {},
   "outputs": [],
   "source": [
    "up_data = upSample(data, data$healthstatus)\n",
    "up_part = createDataPartition(up_data$healthstatus, p = 0.80, list = FALSE)\n",
    "up_train = up_data[up_part,]\n",
    "up_test = up_data[-up_part,]"
   ]
  },
  {
   "cell_type": "code",
   "execution_count": 41,
   "metadata": {},
   "outputs": [
    {
     "data": {
      "text/html": [
       "<dl class=dl-horizontal>\n",
       "\t<dt>Dead</dt>\n",
       "\t\t<dd>472361</dd>\n",
       "\t<dt>Good</dt>\n",
       "\t\t<dd>472361</dd>\n",
       "\t<dt>Poor</dt>\n",
       "\t\t<dd>472361</dd>\n",
       "</dl>\n"
      ],
      "text/latex": [
       "\\begin{description*}\n",
       "\\item[Dead] 472361\n",
       "\\item[Good] 472361\n",
       "\\item[Poor] 472361\n",
       "\\end{description*}\n"
      ],
      "text/markdown": [
       "Dead\n",
       ":   472361Good\n",
       ":   472361Poor\n",
       ":   472361\n",
       "\n"
      ],
      "text/plain": [
       "  Dead   Good   Poor \n",
       "472361 472361 472361 "
      ]
     },
     "metadata": {},
     "output_type": "display_data"
    }
   ],
   "source": [
    "summary(up_train$healthstatus)"
   ]
  },
  {
   "cell_type": "code",
   "execution_count": 19,
   "metadata": {},
   "outputs": [],
   "source": [
    "up_health_cart = rpart(healthstatus ~ latitude + longitude + zipcode + st_assem + sidw_crack + st_senate + inf_guard, data = up_train)"
   ]
  },
  {
   "cell_type": "code",
   "execution_count": 20,
   "metadata": {},
   "outputs": [
    {
     "data": {
      "image/png": "[encoded data removed]",
      "text/plain": [
       "plot without title"
      ]
     },
     "metadata": {},
     "output_type": "display_data"
    }
   ],
   "source": [
    "rpart.plot(up_health_cart, yesno=1, fallen.leaves=TRUE, under = TRUE, box.palette = \"Blues\", branch.lty = 3, shadow.col = \"gray\")"
   ]
  },
  {
   "cell_type": "code",
   "execution_count": 35,
   "metadata": {},
   "outputs": [
    {
     "data": {
      "text/html": [
       "0.450095019134377"
      ],
      "text/latex": [
       "0.450095019134377"
      ],
      "text/markdown": [
       "0.450095019134377"
      ],
      "text/plain": [
       "[1] 0.450095"
      ]
     },
     "metadata": {},
     "output_type": "display_data"
    },
    {
     "data": {
      "text/html": [
       "0.449713495356649"
      ],
      "text/latex": [
       "0.449713495356649"
      ],
      "text/markdown": [
       "0.449713495356649"
      ],
      "text/plain": [
       "[1] 0.4497135"
      ]
     },
     "metadata": {},
     "output_type": "display_data"
    }
   ],
   "source": [
    "#Train prediction accuracy\n",
    "train_predict = predict(up_health_cart, up_train, type = \"class\")\n",
    "mean(train_predict == up_train$healthstatus) \n",
    "\n",
    "#Test prediction accuracy\n",
    "test_predict = predict(up_health_cart, up_test, type = \"class\")\n",
    "mean(test_predict == up_test$healthstatus)"
   ]
  },
  {
   "cell_type": "code",
   "execution_count": 43,
   "metadata": {},
   "outputs": [
    {
     "data": {
      "text/plain": [
       "         actual\n",
       "predicted  Dead  Good  Poor\n",
       "     Dead 73493 20785 29909\n",
       "     Good 42490 89911 77045\n",
       "     Poor  2107  7394 11136"
      ]
     },
     "metadata": {},
     "output_type": "display_data"
    },
    {
     "data": {
      "text/html": [
       "0.429280100837447"
      ],
      "text/latex": [
       "0.429280100837447"
      ],
      "text/markdown": [
       "0.429280100837447"
      ],
      "text/plain": [
       "[1] 0.4292801"
      ]
     },
     "metadata": {},
     "output_type": "display_data"
    },
    {
     "data": {
      "text/html": [
       "0.761376915911593"
      ],
      "text/latex": [
       "0.761376915911593"
      ],
      "text/markdown": [
       "0.761376915911593"
      ],
      "text/plain": [
       "[1] 0.7613769"
      ]
     },
     "metadata": {},
     "output_type": "display_data"
    },
    {
     "data": {
      "text/html": [
       "0.549014459479263"
      ],
      "text/latex": [
       "0.549014459479263"
      ],
      "text/markdown": [
       "0.549014459479263"
      ],
      "text/plain": [
       "[1] 0.5490145"
      ]
     },
     "metadata": {},
     "output_type": "display_data"
    }
   ],
   "source": [
    "confusion_matrix <- table(predicted = test_predict, actual = up_test$healthstatus)\n",
    "confusion_matrix\n",
    "\n",
    "precision <- confusion_matrix[2,2]/sum(confusion_matrix[2,]) #precision - 0.43\n",
    "precision\n",
    "\n",
    "recall <- confusion_matrix[2,2]/sum(confusion_matrix[,2]) #recall - 0.76\n",
    "recall\n",
    "\n",
    "F1score <- 2 * ((precision * recall)/(precision + recall)) #F1 score - 0.55\n",
    "F1score"
   ]
  },
  {
   "cell_type": "code",
   "execution_count": 37,
   "metadata": {},
   "outputs": [],
   "source": [
    "up_health_cart2 = rpart(healthstatus ~ latitude + longitude + zipcode + st_assem + st_senate + sidw_crack + inf_guard + boro_ct + tree_dbh, data = up_train)"
   ]
  },
  {
   "cell_type": "code",
   "execution_count": 38,
   "metadata": {},
   "outputs": [
    {
     "data": {
      "image/png": "[encoded data removed]",
      "text/plain": [
       "plot without title"
      ]
     },
     "metadata": {},
     "output_type": "display_data"
    }
   ],
   "source": [
    "rpart.plot(up_health_cart2, yesno=1, fallen.leaves=TRUE, under = TRUE, box.palette = \"Blues\", branch.lty = 3, shadow.col = \"gray\")"
   ]
  },
  {
   "cell_type": "code",
   "execution_count": 39,
   "metadata": {},
   "outputs": [
    {
     "data": {
      "text/html": [
       "0.492010700855207"
      ],
      "text/latex": [
       "0.492010700855207"
      ],
      "text/markdown": [
       "0.492010700855207"
      ],
      "text/plain": [
       "[1] 0.4920107"
      ]
     },
     "metadata": {},
     "output_type": "display_data"
    },
    {
     "data": {
      "text/html": [
       "0.492675078330087"
      ],
      "text/latex": [
       "0.492675078330087"
      ],
      "text/markdown": [
       "0.492675078330087"
      ],
      "text/plain": [
       "[1] 0.4926751"
      ]
     },
     "metadata": {},
     "output_type": "display_data"
    }
   ],
   "source": [
    "#Train prediction accuracy\n",
    "train_predict = predict(up_health_cart2, up_train, type = \"class\")\n",
    "mean(train_predict == up_train$healthstatus) \n",
    "\n",
    "#Test prediction accuracy\n",
    "test_predict = predict(up_health_cart2, up_test, type = \"class\")\n",
    "mean(test_predict == up_test$healthstatus)"
   ]
  },
  {
   "cell_type": "code",
   "execution_count": 42,
   "metadata": {},
   "outputs": [
    {
     "data": {
      "text/plain": [
       "         actual\n",
       "predicted  Dead  Good  Poor\n",
       "     Dead 73493 20785 29909\n",
       "     Good 42490 89911 77045\n",
       "     Poor  2107  7394 11136"
      ]
     },
     "metadata": {},
     "output_type": "display_data"
    },
    {
     "data": {
      "text/html": [
       "0.429280100837447"
      ],
      "text/latex": [
       "0.429280100837447"
      ],
      "text/markdown": [
       "0.429280100837447"
      ],
      "text/plain": [
       "[1] 0.4292801"
      ]
     },
     "metadata": {},
     "output_type": "display_data"
    },
    {
     "data": {
      "text/html": [
       "0.761376915911593"
      ],
      "text/latex": [
       "0.761376915911593"
      ],
      "text/markdown": [
       "0.761376915911593"
      ],
      "text/plain": [
       "[1] 0.7613769"
      ]
     },
     "metadata": {},
     "output_type": "display_data"
    },
    {
     "data": {
      "text/html": [
       "0.549014459479263"
      ],
      "text/latex": [
       "0.549014459479263"
      ],
      "text/markdown": [
       "0.549014459479263"
      ],
      "text/plain": [
       "[1] 0.5490145"
      ]
     },
     "metadata": {},
     "output_type": "display_data"
    }
   ],
   "source": [
    "confusion_matrix <- table(predicted = test_predict, actual = up_test$healthstatus)\n",
    "confusion_matrix\n",
    "\n",
    "precision <- confusion_matrix[2,2]/sum(confusion_matrix[2,]) #precision - 0.43\n",
    "precision\n",
    "\n",
    "recall <- confusion_matrix[2,2]/sum(confusion_matrix[,2]) #recall - 0.76\n",
    "recall\n",
    "\n",
    "F1score <- 2 * ((precision * recall)/(precision + recall)) #F1 score - 0.55\n",
    "F1score"
   ]
  }
 ],
 "metadata": {
  "hide_code_all_hidden": false,
  "kernelspec": {
   "display_name": "R",
   "language": "R",
   "name": "ir"
  },
  "language_info": {
   "codemirror_mode": "r",
   "file_extension": ".r",
   "mimetype": "text/x-r-source",
   "name": "R",
   "pygments_lexer": "r",
   "version": "3.6.1"
  }
 },
 "nbformat": 4,
 "nbformat_minor": 4
}
