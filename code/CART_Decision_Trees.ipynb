{
 "cells": [
  {
   "cell_type": "markdown",
   "metadata": {},
   "source": [
    "# CART Decision Trees: Aggregated Tree Census Data \n",
    "\n",
    "#### Variables included in the analyses were selected in part due to relationships found during data exploration. \n",
    "\n",
    "Classification and Regression Trees (CART): The outcome (dependent) variable is categorical (although it could be continuous) and the predictor (independent) variables can be continuous or categorical variables (binary). The model creates binary split at deicision points to arrive at its final classifcation decision."
   ]
  },
  {
   "cell_type": "code",
   "execution_count": 1,
   "metadata": {},
   "outputs": [
    {
     "name": "stderr",
     "output_type": "stream",
     "text": [
      "Registered S3 methods overwritten by 'ggplot2':\n",
      "  method         from \n",
      "  [.quosures     rlang\n",
      "  c.quosures     rlang\n",
      "  print.quosures rlang\n",
      "Loading required package: lattice\n"
     ]
    }
   ],
   "source": [
    "library(rpart)\n",
    "library(rpart.plot)\n",
    "library(ggplot2)\n",
    "library(caret)\n",
    "\n",
    "setwd(\"C:/Users/ear51/DAAN- Graduate School/Other Projects/Trees/Processed Data Files\")\n",
    "agg_data <- read.csv(\"Joined_aggregate_data.csv\")"
   ]
  },
  {
   "cell_type": "code",
   "execution_count": 2,
   "metadata": {},
   "outputs": [
    {
     "data": {
      "image/png": "[encoded data removed]",
      "text/plain": [
       "Plot with title \"Histogram of agg_data$Trees_x_sq_mi\""
      ]
     },
     "metadata": {},
     "output_type": "display_data"
    }
   ],
   "source": [
    "hist(agg_data$Trees_x_sq_mi)"
   ]
  },
  {
   "cell_type": "markdown",
   "metadata": {},
   "source": [
    "#### Partition the tree density data into bins based on 25th percentile: low and not low"
   ]
  },
  {
   "cell_type": "code",
   "execution_count": 3,
   "metadata": {},
   "outputs": [
    {
     "data": {
      "text/plain": [
       "   Min. 1st Qu.  Median    Mean 3rd Qu.    Max. \n",
       "  718.4  2416.6  2886.8  2944.5  3578.2  6492.6 "
      ]
     },
     "metadata": {},
     "output_type": "display_data"
    }
   ],
   "source": [
    "summary(agg_data$Trees_x_sq_mi)\n",
    "\n",
    "agg_data$density_bins <- ifelse(agg_data$Trees_x_sq_mi >=2886.8 , \"not_low\", \"low\")"
   ]
  },
  {
   "cell_type": "markdown",
   "metadata": {},
   "source": [
    "#### Build CART model."
   ]
  },
  {
   "cell_type": "code",
   "execution_count": 4,
   "metadata": {},
   "outputs": [
    {
     "name": "stdout",
     "output_type": "stream",
     "text": [
      "Call:\n",
      "rpart(formula = density_bins ~ SelfEmployed + Hosp_Adults_Avg_Yr_Rate_per_10K + \n",
      "    Construction + Production + Transit + IncomePerCap + Professional + \n",
      "    PrivateWork, data = agg_data, control = rpart.control(minsplit = 3, \n",
      "    xval = 0, cp = 0.035))\n",
      "  n= 188 \n",
      "\n",
      "          CP nsplit rel error\n",
      "1 0.24468085      0 1.0000000\n",
      "2 0.04787234      1 0.7553191\n",
      "3 0.04255319      3 0.6595745\n",
      "4 0.03900709      4 0.6170213\n",
      "5 0.03500000      7 0.5000000\n",
      "\n",
      "Variable importance\n",
      "                   SelfEmployed Hosp_Adults_Avg_Yr_Rate_per_10K \n",
      "                             34                              28 \n",
      "                    PrivateWork                         Transit \n",
      "                             14                              11 \n",
      "                   Construction                      Production \n",
      "                              4                               4 \n",
      "                   IncomePerCap                    Professional \n",
      "                              2                               2 \n",
      "\n",
      "Node number 1: 188 observations,    complexity param=0.2446809\n",
      "  predicted class=low      expected loss=0.5  P(node) =1\n",
      "    class counts:    94    94\n",
      "   probabilities: 0.500 0.500 \n",
      "  left son=2 (51 obs) right son=3 (137 obs)\n",
      "  Primary splits:\n",
      "      SelfEmployed                    < 4.957453 to the left,  improve=10.358360, (23 missing)\n",
      "      Transit                         < 61.94871 to the left,  improve= 4.591193, (23 missing)\n",
      "      Professional                    < 18.44704 to the right, improve= 4.458467, (23 missing)\n",
      "      PrivateWork                     < 76.71627 to the left,  improve= 3.658819, (23 missing)\n",
      "      Hosp_Adults_Avg_Yr_Rate_per_10K < 13.35    to the right, improve= 3.646552, (0 missing)\n",
      "  Surrogate splits:\n",
      "      PrivateWork  < 74.297   to the left,  agree=0.794, adj=0.333, (0 split)\n",
      "      Transit      < 35.7979  to the left,  agree=0.727, adj=0.118, (0 split)\n",
      "      Construction < 8.676636 to the right, agree=0.703, adj=0.039, (0 split)\n",
      "\n",
      "Node number 2: 51 observations,    complexity param=0.04255319\n",
      "  predicted class=low      expected loss=0.2745098  P(node) =0.2712766\n",
      "    class counts:    37    14\n",
      "   probabilities: 0.725 0.275 \n",
      "  left son=4 (47 obs) right son=5 (4 obs)\n",
      "  Primary splits:\n",
      "      Hosp_Adults_Avg_Yr_Rate_per_10K < 9.05     to the right, improve=4.569045, (0 missing)\n",
      "      Transit                         < 22.80458 to the right, improve=1.962662, (0 missing)\n",
      "      Production                      < 11.18775 to the right, improve=1.874701, (0 missing)\n",
      "      Professional                    < 32.34499 to the left,  improve=1.286033, (0 missing)\n",
      "      Construction                    < 7.041092 to the left,  improve=1.237535, (0 missing)\n",
      "\n",
      "Node number 3: 137 observations,    complexity param=0.04787234\n",
      "  predicted class=not_low  expected loss=0.4160584  P(node) =0.7287234\n",
      "    class counts:    57    80\n",
      "   probabilities: 0.416 0.584 \n",
      "  left son=6 (116 obs) right son=7 (21 obs)\n",
      "  Primary splits:\n",
      "      Hosp_Adults_Avg_Yr_Rate_per_10K < 43.5     to the left,  improve=2.524187, (0 missing)\n",
      "      Professional                    < 18.99497 to the right, improve=2.338647, (23 missing)\n",
      "      IncomePerCap                    < 14270.27 to the right, improve=2.320335, (21 missing)\n",
      "      Construction                    < 7.29533  to the right, improve=2.083240, (23 missing)\n",
      "      Transit                         < 55.99601 to the left,  improve=1.753389, (23 missing)\n",
      "\n",
      "Node number 4: 47 observations\n",
      "  predicted class=low      expected loss=0.212766  P(node) =0.25\n",
      "    class counts:    37    10\n",
      "   probabilities: 0.787 0.213 \n",
      "\n",
      "Node number 5: 4 observations\n",
      "  predicted class=not_low  expected loss=0  P(node) =0.0212766\n",
      "    class counts:     0     4\n",
      "   probabilities: 0.000 1.000 \n",
      "\n",
      "Node number 6: 116 observations,    complexity param=0.04787234\n",
      "  predicted class=not_low  expected loss=0.4568966  P(node) =0.6170213\n",
      "    class counts:    53    63\n",
      "   probabilities: 0.457 0.543 \n",
      "  left son=12 (53 obs) right son=13 (63 obs)\n",
      "  Primary splits:\n",
      "      Hosp_Adults_Avg_Yr_Rate_per_10K < 13.45    to the right, improve=3.198196, (0 missing)\n",
      "      SelfEmployed                    < 6.342982 to the left,  improve=2.194820, (21 missing)\n",
      "      Professional                    < 33.27297 to the left,  improve=1.469602, (21 missing)\n",
      "      Construction                    < 7.29533  to the right, improve=1.285020, (21 missing)\n",
      "      Production                      < 8.605278 to the right, improve=1.274880, (21 missing)\n",
      "  Surrogate splits:\n",
      "      IncomePerCap < 25565.06 to the left,  agree=0.578, adj=0.075, (0 split)\n",
      "      Professional < 38.51896 to the left,  agree=0.560, adj=0.038, (0 split)\n",
      "      Transit      < 58.32126 to the right, agree=0.552, adj=0.019, (0 split)\n",
      "\n",
      "Node number 7: 21 observations\n",
      "  predicted class=not_low  expected loss=0.1904762  P(node) =0.1117021\n",
      "    class counts:     4    17\n",
      "   probabilities: 0.190 0.810 \n",
      "\n",
      "Node number 12: 53 observations,    complexity param=0.03900709\n",
      "  predicted class=low      expected loss=0.4150943  P(node) =0.2819149\n",
      "    class counts:    31    22\n",
      "   probabilities: 0.585 0.415 \n",
      "  left son=24 (15 obs) right son=25 (38 obs)\n",
      "  Primary splits:\n",
      "      Transit                         < 56.11587 to the left,  improve=3.008791, (13 missing)\n",
      "      SelfEmployed                    < 5.871256 to the left,  improve=2.332915, (13 missing)\n",
      "      Production                      < 13.56852 to the right, improve=1.400000, (13 missing)\n",
      "      PrivateWork                     < 85.85586 to the right, improve=1.273684, (13 missing)\n",
      "      Hosp_Adults_Avg_Yr_Rate_per_10K < 13.75    to the left,  improve=1.095849, (0 missing)\n",
      "  Surrogate splits:\n",
      "      Hosp_Adults_Avg_Yr_Rate_per_10K < 40.2     to the right, agree=0.700, adj=0.143, (13 split)\n",
      "      Construction                    < 5.91471  to the right, agree=0.700, adj=0.143, (0 split)\n",
      "      PrivateWork                     < 74.11414 to the left,  agree=0.700, adj=0.143, (0 split)\n",
      "      SelfEmployed                    < 5.204286 to the left,  agree=0.675, adj=0.071, (0 split)\n",
      "\n",
      "Node number 13: 63 observations\n",
      "  predicted class=not_low  expected loss=0.3492063  P(node) =0.3351064\n",
      "    class counts:    22    41\n",
      "   probabilities: 0.349 0.651 \n",
      "\n",
      "Node number 24: 15 observations\n",
      "  predicted class=low      expected loss=0.2666667  P(node) =0.07978723\n",
      "    class counts:    11     4\n",
      "   probabilities: 0.733 0.267 \n",
      "\n",
      "Node number 25: 38 observations,    complexity param=0.03900709\n",
      "  predicted class=low      expected loss=0.4736842  P(node) =0.2021277\n",
      "    class counts:    20    18\n",
      "   probabilities: 0.526 0.474 \n",
      "  left son=50 (6 obs) right son=51 (32 obs)\n",
      "  Primary splits:\n",
      "      SelfEmployed                    < 5.871256 to the left,  improve=2.0102560, (12 missing)\n",
      "      Production                      < 13.42286 to the right, improve=1.8496500, (12 missing)\n",
      "      Professional                    < 37.70074 to the left,  improve=1.7920750, (12 missing)\n",
      "      Hosp_Adults_Avg_Yr_Rate_per_10K < 30       to the left,  improve=1.3902260, (0 missing)\n",
      "      Construction                    < 13.739   to the right, improve=0.9969231, (12 missing)\n",
      "  Surrogate splits:\n",
      "      Production < 13.42286 to the right, agree=0.846, adj=0.333, (0 split)\n",
      "\n",
      "Node number 50: 6 observations\n",
      "  predicted class=low      expected loss=0.3333333  P(node) =0.03191489\n",
      "    class counts:     4     2\n",
      "   probabilities: 0.667 0.333 \n",
      "\n",
      "Node number 51: 32 observations,    complexity param=0.03900709\n",
      "  predicted class=low      expected loss=0.5  P(node) =0.1702128\n",
      "    class counts:    16    16\n",
      "   probabilities: 0.500 0.500 \n",
      "  left son=102 (11 obs) right son=103 (10 obs), 11 observations remain\n",
      "  Primary splits:\n",
      "      PrivateWork                     < 80.66497 to the right, improve=1.600000, (12 missing)\n",
      "      Construction                    < 13.16768 to the right, improve=1.347368, (12 missing)\n",
      "      Production                      < 13.62486 to the right, improve=1.347368, (12 missing)\n",
      "      Professional                    < 16.37736 to the left,  improve=1.347368, (12 missing)\n",
      "      Hosp_Adults_Avg_Yr_Rate_per_10K < 30.05    to the left,  improve=1.333333, (0 missing)\n",
      "  Surrogate splits:\n",
      "      Production   < 6.880291 to the right, agree=0.75, adj=0.5, (0 split)\n",
      "      Construction < 3.311439 to the right, agree=0.70, adj=0.4, (0 split)\n",
      "      IncomePerCap < 34272.37 to the left,  agree=0.70, adj=0.4, (1 split)\n",
      "      Professional < 37.70074 to the left,  agree=0.70, adj=0.4, (0 split)\n",
      "      SelfEmployed < 7.487879 to the left,  agree=0.65, adj=0.3, (0 split)\n",
      "\n",
      "Node number 102: 11 observations\n",
      "  predicted class=not_low  expected loss=0.4545455  P(node) =0.05851064\n",
      "    class counts:     5     6\n",
      "   probabilities: 0.455 0.545 \n",
      "\n",
      "Node number 103: 10 observations\n",
      "  predicted class=not_low  expected loss=0  P(node) =0.05319149\n",
      "    class counts:     0    10\n",
      "   probabilities: 0.000 1.000 \n",
      "\n"
     ]
    }
   ],
   "source": [
    "cart_1 <- rpart(density_bins ~ SelfEmployed + Hosp_Adults_Avg_Yr_Rate_per_10K + Construction + Production + Transit + IncomePerCap + Professional+ PrivateWork,\n",
    "                data = agg_data, control = rpart.control(minsplit = 3, xval = 0, cp = 0.035))\n",
    "\n",
    "summary(cart_1)"
   ]
  },
  {
   "cell_type": "code",
   "execution_count": 5,
   "metadata": {},
   "outputs": [
    {
     "data": {
      "image/png": "[encoded data removed]",
      "text/plain": [
       "plot without title"
      ]
     },
     "metadata": {},
     "output_type": "display_data"
    }
   ],
   "source": [
    "rpart.plot(cart_1, yesno=1, fallen.leaves=TRUE, under = TRUE, box.palette = \"Blues\", branch.lty = 3, shadow.col = \"gray\")"
   ]
  },
  {
   "cell_type": "markdown",
   "metadata": {},
   "source": [
    "#### Predictive accuracy, confusion matrix and other model performance evluation"
   ]
  },
  {
   "cell_type": "code",
   "execution_count": 6,
   "metadata": {},
   "outputs": [
    {
     "data": {
      "text/html": [
       "0.691489361702128"
      ],
      "text/latex": [
       "0.691489361702128"
      ],
      "text/markdown": [
       "0.691489361702128"
      ],
      "text/plain": [
       "[1] 0.6914894"
      ]
     },
     "metadata": {},
     "output_type": "display_data"
    }
   ],
   "source": [
    "#Prediction accuracy\n",
    "predicted_bin= predict(cart_1,agg_data, type = \"class\")\n",
    "mean(predicted_bin == agg_data$density_bins) "
   ]
  },
  {
   "cell_type": "code",
   "execution_count": 7,
   "metadata": {},
   "outputs": [
    {
     "data": {
      "text/plain": [
       "         actual\n",
       "predicted low not_low\n",
       "  low      52      16\n",
       "  not_low  42      78"
      ]
     },
     "metadata": {},
     "output_type": "display_data"
    },
    {
     "data": {
      "text/html": [
       "0.65"
      ],
      "text/latex": [
       "0.65"
      ],
      "text/markdown": [
       "0.65"
      ],
      "text/plain": [
       "[1] 0.65"
      ]
     },
     "metadata": {},
     "output_type": "display_data"
    },
    {
     "data": {
      "text/html": [
       "0.829787234042553"
      ],
      "text/latex": [
       "0.829787234042553"
      ],
      "text/markdown": [
       "0.829787234042553"
      ],
      "text/plain": [
       "[1] 0.8297872"
      ]
     },
     "metadata": {},
     "output_type": "display_data"
    },
    {
     "data": {
      "text/html": [
       "0.728971962616822"
      ],
      "text/latex": [
       "0.728971962616822"
      ],
      "text/markdown": [
       "0.728971962616822"
      ],
      "text/plain": [
       "[1] 0.728972"
      ]
     },
     "metadata": {},
     "output_type": "display_data"
    }
   ],
   "source": [
    "confusion_matrix <- table(predicted = predicted_bin, actual = agg_data$density_bins)\n",
    "confusion_matrix\n",
    "\n",
    "precision <- confusion_matrix[2,2]/sum(confusion_matrix[2,]) #precision - 0.65\n",
    "precision\n",
    "\n",
    "recall <- confusion_matrix[2,2]/sum(confusion_matrix[,2]) #recall - 0.829787234042553\n",
    "recall\n",
    "\n",
    "F1score <- 2 * ((precision * recall)/(precision + recall)) #F1 score - 0.728971962616822\n",
    "F1score"
   ]
  },
  {
   "cell_type": "markdown",
   "metadata": {},
   "source": [
    "#### Now trying the model using partitioned data"
   ]
  },
  {
   "cell_type": "code",
   "execution_count": 8,
   "metadata": {},
   "outputs": [
    {
     "name": "stdout",
     "output_type": "stream",
     "text": [
      "Call:\n",
      "rpart(formula = density_bins ~ SelfEmployed + Hosp_Adults_Avg_Yr_Rate_per_10K + \n",
      "    Construction + Production + Transit + IncomePerCap + Professional + \n",
      "    PrivateWork, data = agg_data_train, control = rpart.control(minsplit = 3, \n",
      "    xval = 0, cp = 0.035))\n",
      "  n= 152 \n",
      "\n",
      "          CP nsplit rel error\n",
      "1 0.26315789      0 1.0000000\n",
      "2 0.05263158      1 0.7368421\n",
      "3 0.03947368      3 0.6315789\n",
      "4 0.03500000      8 0.4342105\n",
      "\n",
      "Variable importance\n",
      "Hosp_Adults_Avg_Yr_Rate_per_10K                    SelfEmployed \n",
      "                             29                              25 \n",
      "                    PrivateWork                         Transit \n",
      "                             15                              13 \n",
      "                   Construction                    IncomePerCap \n",
      "                             10                               4 \n",
      "                   Professional                      Production \n",
      "                              2                               2 \n",
      "\n",
      "Node number 1: 152 observations,    complexity param=0.2631579\n",
      "  predicted class=low      expected loss=0.5  P(node) =1\n",
      "    class counts:    76    76\n",
      "   probabilities: 0.500 0.500 \n",
      "  left son=2 (38 obs) right son=3 (114 obs)\n",
      "  Primary splits:\n",
      "      SelfEmployed                    < 4.957453  to the left,  improve=10.059180, (18 missing)\n",
      "      Professional                    < 33.29172  to the left,  improve= 4.954746, (18 missing)\n",
      "      Hosp_Adults_Avg_Yr_Rate_per_10K < 10.65     to the right, improve= 4.561578, (0 missing)\n",
      "      PrivateWork                     < 71.40918  to the left,  improve= 4.383946, (18 missing)\n",
      "      Production                      < 8.605278  to the right, improve= 3.958222, (18 missing)\n",
      "  Surrogate splits:\n",
      "      PrivateWork  < 73.56275  to the left,  agree=0.791, adj=0.263, (0 split)\n",
      "      Transit      < 23.84312  to the left,  agree=0.746, adj=0.105, (0 split)\n",
      "      Construction < 11.44857  to the right, agree=0.724, adj=0.026, (0 split)\n",
      "\n",
      "Node number 2: 38 observations,    complexity param=0.05263158\n",
      "  predicted class=low      expected loss=0.2368421  P(node) =0.25\n",
      "    class counts:    29     9\n",
      "   probabilities: 0.763 0.237 \n",
      "  left son=4 (34 obs) right son=5 (4 obs)\n",
      "  Primary splits:\n",
      "      Hosp_Adults_Avg_Yr_Rate_per_10K < 10        to the right, improve=5.207430, (0 missing)\n",
      "      Transit                         < 27.2788   to the right, improve=3.911957, (0 missing)\n",
      "      Professional                    < 34.6743   to the left,  improve=3.070175, (0 missing)\n",
      "      Production                      < 8.0888    to the right, improve=1.879699, (0 missing)\n",
      "      IncomePerCap                    < 33601.96  to the left,  improve=1.859717, (1 missing)\n",
      "\n",
      "Node number 3: 114 observations,    complexity param=0.05263158\n",
      "  predicted class=not_low  expected loss=0.4122807  P(node) =0.75\n",
      "    class counts:    47    67\n",
      "   probabilities: 0.412 0.588 \n",
      "  left son=6 (10 obs) right son=7 (104 obs)\n",
      "  Primary splits:\n",
      "      Construction                    < 9.192987  to the right, improve=3.001550, (18 missing)\n",
      "      PrivateWork                     < 84.81252  to the right, improve=1.587597, (18 missing)\n",
      "      Hosp_Adults_Avg_Yr_Rate_per_10K < 44.05     to the left,  improve=1.556725, (0 missing)\n",
      "      IncomePerCap                    < 14270.27  to the right, improve=1.480458, (17 missing)\n",
      "      Transit                         < 71.37946  to the left,  improve=1.422222, (18 missing)\n",
      "  Surrogate splits:\n",
      "      Professional < 16.49679  to the left,  agree=0.906, adj=0.1, (0 split)\n",
      "\n",
      "Node number 4: 34 observations\n",
      "  predicted class=low      expected loss=0.1470588  P(node) =0.2236842\n",
      "    class counts:    29     5\n",
      "   probabilities: 0.853 0.147 \n",
      "\n",
      "Node number 5: 4 observations\n",
      "  predicted class=not_low  expected loss=0  P(node) =0.02631579\n",
      "    class counts:     0     4\n",
      "   probabilities: 0.000 1.000 \n",
      "\n",
      "Node number 6: 10 observations\n",
      "  predicted class=low      expected loss=0.3  P(node) =0.06578947\n",
      "    class counts:     7     3\n",
      "   probabilities: 0.700 0.300 \n",
      "\n",
      "Node number 7: 104 observations,    complexity param=0.03947368\n",
      "  predicted class=not_low  expected loss=0.3846154  P(node) =0.6842105\n",
      "    class counts:    40    64\n",
      "   probabilities: 0.385 0.615 \n",
      "  left son=14 (8 obs) right son=15 (96 obs)\n",
      "  Primary splits:\n",
      "      PrivateWork                     < 85.44788  to the right, improve=1.971527, (18 missing)\n",
      "      Hosp_Adults_Avg_Yr_Rate_per_10K < 44.05     to the left,  improve=1.891087, (0 missing)\n",
      "      Transit                         < 55.99601  to the left,  improve=1.552921, (18 missing)\n",
      "      Professional                    < 18.99497  to the right, improve=1.287901, (18 missing)\n",
      "      SelfEmployed                    < 8.088095  to the left,  improve=1.214567, (18 missing)\n",
      "  Surrogate splits:\n",
      "      IncomePerCap < 87240.35  to the right, agree=0.93, adj=0.25, (1 split)\n",
      "\n",
      "Node number 14: 8 observations\n",
      "  predicted class=low      expected loss=0.375  P(node) =0.05263158\n",
      "    class counts:     5     3\n",
      "   probabilities: 0.625 0.375 \n",
      "\n",
      "Node number 15: 96 observations,    complexity param=0.03947368\n",
      "  predicted class=not_low  expected loss=0.3645833  P(node) =0.6315789\n",
      "    class counts:    35    61\n",
      "   probabilities: 0.365 0.635 \n",
      "  left son=30 (82 obs) right son=31 (14 obs)\n",
      "  Primary splits:\n",
      "      Hosp_Adults_Avg_Yr_Rate_per_10K < 44.05     to the left,  improve=1.611571, (0 missing)\n",
      "      SelfEmployed                    < 7.96375   to the left,  improve=1.492963, (18 missing)\n",
      "      PrivateWork                     < 80.86453  to the left,  improve=1.126447, (18 missing)\n",
      "      Construction                    < 0.1708333 to the left,  improve=1.120213, (18 missing)\n",
      "      Production                      < 0.7903846 to the left,  improve=1.120213, (18 missing)\n",
      "\n",
      "Node number 30: 82 observations,    complexity param=0.03947368\n",
      "  predicted class=not_low  expected loss=0.402439  P(node) =0.5394737\n",
      "    class counts:    33    49\n",
      "   probabilities: 0.402 0.598 \n",
      "  left son=60 (27 obs) right son=61 (55 obs)\n",
      "  Primary splits:\n",
      "      Hosp_Adults_Avg_Yr_Rate_per_10K < 16.8      to the right, improve=4.155523, (0 missing)\n",
      "      Production                      < 13.58852  to the right, improve=2.157753, (17 missing)\n",
      "      SelfEmployed                    < 7.96375   to the left,  improve=2.048085, (17 missing)\n",
      "      Construction                    < 2.909926  to the right, improve=1.368831, (17 missing)\n",
      "      Professional                    < 46.22601  to the left,  improve=1.312821, (17 missing)\n",
      "\n",
      "Node number 31: 14 observations\n",
      "  predicted class=not_low  expected loss=0.1428571  P(node) =0.09210526\n",
      "    class counts:     2    12\n",
      "   probabilities: 0.143 0.857 \n",
      "\n",
      "Node number 60: 27 observations,    complexity param=0.03947368\n",
      "  predicted class=low      expected loss=0.3703704  P(node) =0.1776316\n",
      "    class counts:    17    10\n",
      "   probabilities: 0.630 0.370 \n",
      "  left son=120 (10 obs) right son=121 (17 obs)\n",
      "  Primary splits:\n",
      "      Transit      < 56.11587  to the left,  improve=2.268556, (8 missing)\n",
      "      IncomePerCap < 25861.97  to the right, improve=1.666667, (7 missing)\n",
      "      Production   < 5.414976  to the left,  improve=1.238390, (8 missing)\n",
      "      Professional < 56.61597  to the right, improve=1.238390, (8 missing)\n",
      "      SelfEmployed < 5.300319  to the right, improve=1.003096, (8 missing)\n",
      "  Surrogate splits:\n",
      "      Construction                    < 5.852673  to the right, agree=0.842, adj=0.500, (0 split)\n",
      "      Hosp_Adults_Avg_Yr_Rate_per_10K < 22.05     to the left,  agree=0.789, adj=0.333, (8 split)\n",
      "      PrivateWork                     < 74.42664  to the left,  agree=0.789, adj=0.333, (0 split)\n",
      "      SelfEmployed                    < 5.852137  to the left,  agree=0.737, adj=0.167, (0 split)\n",
      "      IncomePerCap                    < 26971.43  to the right, agree=0.737, adj=0.167, (0 split)\n",
      "\n",
      "Node number 61: 55 observations\n",
      "  predicted class=not_low  expected loss=0.2909091  P(node) =0.3618421\n",
      "    class counts:    16    39\n",
      "   probabilities: 0.291 0.709 \n",
      "\n",
      "Node number 120: 10 observations\n",
      "  predicted class=low      expected loss=0.1  P(node) =0.06578947\n",
      "    class counts:     9     1\n",
      "   probabilities: 0.900 0.100 \n",
      "\n",
      "Node number 121: 17 observations,    complexity param=0.03947368\n",
      "  predicted class=not_low  expected loss=0.4705882  P(node) =0.1118421\n",
      "    class counts:     8     9\n",
      "   probabilities: 0.471 0.529 \n",
      "  left son=242 (11 obs) right son=243 (6 obs)\n",
      "  Primary splits:\n",
      "      Transit                         < 66.08194  to the right, improve=2.109890, (4 missing)\n",
      "      Hosp_Adults_Avg_Yr_Rate_per_10K < 34.7      to the right, improve=1.537255, (0 missing)\n",
      "      PrivateWork                     < 80.45734  to the right, improve=1.388462, (4 missing)\n",
      "      Production                      < 3.980288  to the left,  improve=1.038462, (4 missing)\n",
      "      Professional                    < 22.1827   to the left,  improve=1.038462, (4 missing)\n",
      "  Surrogate splits:\n",
      "      PrivateWork                     < 76.02746  to the right, agree=0.769, adj=0.500, (0 split)\n",
      "      Hosp_Adults_Avg_Yr_Rate_per_10K < 21.2      to the right, agree=0.692, adj=0.333, (4 split)\n",
      "      Production                      < 9.232778  to the left,  agree=0.692, adj=0.333, (0 split)\n",
      "      IncomePerCap                    < 22823.39  to the right, agree=0.692, adj=0.333, (0 split)\n",
      "      Professional                    < 34.45797  to the left,  agree=0.692, adj=0.333, (0 split)\n",
      "\n",
      "Node number 242: 11 observations\n",
      "  predicted class=low      expected loss=0.2727273  P(node) =0.07236842\n",
      "    class counts:     8     3\n",
      "   probabilities: 0.727 0.273 \n",
      "\n",
      "Node number 243: 6 observations\n",
      "  predicted class=not_low  expected loss=0  P(node) =0.03947368\n",
      "    class counts:     0     6\n",
      "   probabilities: 0.000 1.000 \n",
      "\n"
     ]
    }
   ],
   "source": [
    "set.seed(266)\n",
    "sampling_vector <- createDataPartition(agg_data$density_bins, p = 0.80, list = FALSE)\n",
    "agg_data_train <- agg_data[sampling_vector,]\n",
    "agg_data_test <- agg_data[-sampling_vector,]\n",
    "\n",
    "cart_2 <- rpart(density_bins ~ SelfEmployed + Hosp_Adults_Avg_Yr_Rate_per_10K + Construction + Production + Transit + IncomePerCap + Professional+ PrivateWork,\n",
    "                data = agg_data_train, control = rpart.control(minsplit = 3, xval = 0, cp = 0.035))\n",
    "\n",
    "summary(cart_2)"
   ]
  },
  {
   "cell_type": "code",
   "execution_count": 9,
   "metadata": {},
   "outputs": [
    {
     "data": {
      "image/png": "[encoded data removed]",
      "text/plain": [
       "plot without title"
      ]
     },
     "metadata": {},
     "output_type": "display_data"
    }
   ],
   "source": [
    "rpart.plot(cart_2, yesno=1, fallen.leaves=TRUE, under = TRUE, box.palette = \"Blues\", branch.lty = 3, shadow.col = \"gray\")"
   ]
  },
  {
   "cell_type": "markdown",
   "metadata": {},
   "source": [
    "#### Test and Train accuracies"
   ]
  },
  {
   "cell_type": "code",
   "execution_count": 10,
   "metadata": {},
   "outputs": [
    {
     "data": {
      "text/html": [
       "0.782894736842105"
      ],
      "text/latex": [
       "0.782894736842105"
      ],
      "text/markdown": [
       "0.782894736842105"
      ],
      "text/plain": [
       "[1] 0.7828947"
      ]
     },
     "metadata": {},
     "output_type": "display_data"
    },
    {
     "data": {
      "text/html": [
       "0.583333333333333"
      ],
      "text/latex": [
       "0.583333333333333"
      ],
      "text/markdown": [
       "0.583333333333333"
      ],
      "text/plain": [
       "[1] 0.5833333"
      ]
     },
     "metadata": {},
     "output_type": "display_data"
    }
   ],
   "source": [
    "#Train prediction accuracy\n",
    "predicted_bin= predict(cart_2,agg_data_train, type = \"class\")\n",
    "mean(predicted_bin == agg_data_train$density_bins) \n",
    "\n",
    "#Test prediction accuracy\n",
    "predicted_bin= predict(cart_2,agg_data_test, type = \"class\")\n",
    "mean(predicted_bin == agg_data_test$density_bins) "
   ]
  },
  {
   "cell_type": "markdown",
   "metadata": {},
   "source": [
    "#### Prediction Performance Evaluation"
   ]
  },
  {
   "cell_type": "code",
   "execution_count": 11,
   "metadata": {},
   "outputs": [
    {
     "data": {
      "text/plain": [
       "         actual\n",
       "predicted low not_low\n",
       "  low      12       9\n",
       "  not_low   6       9"
      ]
     },
     "metadata": {},
     "output_type": "display_data"
    },
    {
     "data": {
      "text/html": [
       "0.6"
      ],
      "text/latex": [
       "0.6"
      ],
      "text/markdown": [
       "0.6"
      ],
      "text/plain": [
       "[1] 0.6"
      ]
     },
     "metadata": {},
     "output_type": "display_data"
    },
    {
     "data": {
      "text/html": [
       "0.5"
      ],
      "text/latex": [
       "0.5"
      ],
      "text/markdown": [
       "0.5"
      ],
      "text/plain": [
       "[1] 0.5"
      ]
     },
     "metadata": {},
     "output_type": "display_data"
    },
    {
     "data": {
      "text/html": [
       "0.545454545454545"
      ],
      "text/latex": [
       "0.545454545454545"
      ],
      "text/markdown": [
       "0.545454545454545"
      ],
      "text/plain": [
       "[1] 0.5454545"
      ]
     },
     "metadata": {},
     "output_type": "display_data"
    }
   ],
   "source": [
    "#Confusion Matrix, etc.\n",
    "confusion_matrix <- table(predicted = predicted_bin, actual = agg_data_test$density_bins)\n",
    "confusion_matrix\n",
    "\n",
    "precision <- confusion_matrix[2,2]/sum(confusion_matrix[2,]) #precision - 0.65\n",
    "precision\n",
    "\n",
    "recall <- confusion_matrix[2,2]/sum(confusion_matrix[,2]) #recall - 0.829787234042553\n",
    "recall\n",
    "\n",
    "F1score <- 2 * ((precision * recall)/(precision + recall)) #F1 score - 0.728971962616822\n",
    "F1score"
   ]
  },
  {
   "cell_type": "markdown",
   "metadata": {},
   "source": [
    "## Conclusions\n",
    "\n",
    "While the performance of the model is not great considering how the data was binned, we can learn important things about the data based on how the decision tree is formed. For example, we can get a sense of the important variables in predicting the outcome and potential thresholds for continuous variables. \n",
    "\n",
    "One of the main findings is that \"self-employed\" cut-off at 5 seems to be an important variable and threshold in predicting tree density. "
   ]
  }
 ],
 "metadata": {
  "kernelspec": {
   "display_name": "R",
   "language": "R",
   "name": "ir"
  },
  "language_info": {
   "codemirror_mode": "r",
   "file_extension": ".r",
   "mimetype": "text/x-r-source",
   "name": "R",
   "pygments_lexer": "r",
   "version": "3.6.1"
  }
 },
 "nbformat": 4,
 "nbformat_minor": 4
}
