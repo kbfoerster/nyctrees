{
 "cells": [
  {
   "cell_type": "markdown",
   "metadata": {},
   "source": [
    "# CART Decision Trees: Aggregated Tree Census Data \n",
    "\n",
    "#### Variables included in the analyses were selected in part due to relationships found during data exploration. \n",
    "\n",
    "Classification and Regression Trees (CART): The outcome (dependent) variable is categorical (although it could be continuous) and the predictor (independent) variables can be continuous or categorical variables (binary). The model creates binary split at deicision points to arrive at its final classifcation decision."
   ]
  },
  {
   "cell_type": "code",
   "execution_count": 98,
   "metadata": {},
   "outputs": [],
   "source": [
    "library(rpart)\n",
    "library(rpart.plot)\n",
    "library(ggplot2)\n",
    "library(caret)\n",
    "\n",
    "setwd(\"C:/Users/ear51/DAAN- Graduate School/Other Projects/Trees/Processed Data Files\")\n",
    "agg_data <- read.csv(\"Joined_aggregate_data.csv\")"
   ]
  },
  {
   "cell_type": "code",
   "execution_count": 99,
   "metadata": {},
   "outputs": [
    {
     "data": {
      "image/png": "[encoded data removed]",
      "text/plain": [
       "Plot with title \"Histogram of agg_data$Trees_x_sq_mi\""
      ]
     },
     "metadata": {},
     "output_type": "display_data"
    }
   ],
   "source": [
    "hist(agg_data$Trees_x_sq_mi)"
   ]
  },
  {
   "cell_type": "markdown",
   "metadata": {},
   "source": [
    "#### Partition the tree density data into bins based on 25th percentile: low and not low"
   ]
  },
  {
   "cell_type": "code",
   "execution_count": 100,
   "metadata": {},
   "outputs": [
    {
     "data": {
      "text/plain": [
       "   Min. 1st Qu.  Median    Mean 3rd Qu.    Max. \n",
       "  718.4  2416.6  2886.8  2944.5  3578.2  6492.6 "
      ]
     },
     "metadata": {},
     "output_type": "display_data"
    }
   ],
   "source": [
    "summary(agg_data$Trees_x_sq_mi)\n",
    "\n",
    "agg_data$density_bins <- ifelse(agg_data$Trees_x_sq_mi >=2416.6 , \"not_low\", \"low\")"
   ]
  },
  {
   "cell_type": "markdown",
   "metadata": {},
   "source": [
    "#### Build CART model."
   ]
  },
  {
   "cell_type": "code",
   "execution_count": 101,
   "metadata": {},
   "outputs": [
    {
     "name": "stdout",
     "output_type": "stream",
     "text": [
      "Call:\n",
      "rpart(formula = density_bins ~ SelfEmployed + Hosp_Adults_Avg_Yr_Rate_per_10K + \n",
      "    Construction + Production + Transit + IncomePerCap + Professional + \n",
      "    PrivateWork, data = agg_data, control = rpart.control(minsplit = 3, \n",
      "    xval = 0, cp = 0.035))\n",
      "  n= 188 \n",
      "\n",
      "          CP nsplit rel error\n",
      "1 0.14893617      0 1.0000000\n",
      "2 0.05319149      1 0.8510638\n",
      "3 0.04255319      7 0.5319149\n",
      "4 0.03500000      8 0.4893617\n",
      "\n",
      "Variable importance\n",
      "                   SelfEmployed Hosp_Adults_Avg_Yr_Rate_per_10K \n",
      "                             31                              20 \n",
      "                        Transit                    Construction \n",
      "                             15                               9 \n",
      "                   IncomePerCap                      Production \n",
      "                              9                               7 \n",
      "                   Professional                     PrivateWork \n",
      "                              6                               4 \n",
      "\n",
      "Node number 1: 188 observations,    complexity param=0.1489362\n",
      "  predicted class=not_low  expected loss=0.25  P(node) =1\n",
      "    class counts:    47   141\n",
      "   probabilities: 0.250 0.750 \n",
      "  left son=2 (7 obs) right son=3 (181 obs)\n",
      "  Primary splits:\n",
      "      SelfEmployed                    < 2.827765  to the left,  improve=8.661527, (23 missing)\n",
      "      Transit                         < 56.79716  to the left,  improve=5.159192, (23 missing)\n",
      "      PrivateWork                     < 71.40918  to the left,  improve=3.625175, (23 missing)\n",
      "      Hosp_Adults_Avg_Yr_Rate_per_10K < 21        to the right, improve=2.642272, (0 missing)\n",
      "      Construction                    < 8.804048  to the right, improve=1.662383, (23 missing)\n",
      "\n",
      "Node number 2: 7 observations\n",
      "  predicted class=low      expected loss=0  P(node) =0.03723404\n",
      "    class counts:     7     0\n",
      "   probabilities: 1.000 0.000 \n",
      "\n",
      "Node number 3: 181 observations,    complexity param=0.05319149\n",
      "  predicted class=not_low  expected loss=0.2209945  P(node) =0.962766\n",
      "    class counts:    40   141\n",
      "   probabilities: 0.221 0.779 \n",
      "  left son=6 (95 obs) right son=7 (86 obs)\n",
      "  Primary splits:\n",
      "      Transit                         < 55.38444  to the left,  improve=4.761084, (23 missing)\n",
      "      SelfEmployed                    < 4.749219  to the left,  improve=3.676426, (23 missing)\n",
      "      Construction                    < 9.792092  to the right, improve=2.316726, (23 missing)\n",
      "      PrivateWork                     < 70.58754  to the left,  improve=1.683809, (23 missing)\n",
      "      Hosp_Adults_Avg_Yr_Rate_per_10K < 21        to the right, improve=1.306614, (0 missing)\n",
      "  Surrogate splits:\n",
      "      Hosp_Adults_Avg_Yr_Rate_per_10K < 21.9      to the left,  agree=0.703, adj=0.397, (23 split)\n",
      "      IncomePerCap                    < 24395.64  to the right, agree=0.696, adj=0.385, (0 split)\n",
      "      SelfEmployed                    < 5.070635  to the left,  agree=0.652, adj=0.295, (0 split)\n",
      "      Professional                    < 32.23794  to the right, agree=0.646, adj=0.282, (0 split)\n",
      "      Construction                    < 6.824288  to the right, agree=0.627, adj=0.244, (0 split)\n",
      "\n",
      "Node number 6: 95 observations,    complexity param=0.05319149\n",
      "  predicted class=not_low  expected loss=0.3157895  P(node) =0.5053191\n",
      "    class counts:    30    65\n",
      "   probabilities: 0.316 0.684 \n",
      "  left son=12 (7 obs) right son=13 (88 obs)\n",
      "  Primary splits:\n",
      "      Hosp_Adults_Avg_Yr_Rate_per_10K < 29        to the right, improve=4.429255, (0 missing)\n",
      "      Transit                         < 54.47672  to the right, improve=2.881026, (17 missing)\n",
      "      SelfEmployed                    < 4.754427  to the left,  improve=2.430376, (17 missing)\n",
      "      Construction                    < 11.44857  to the right, improve=2.384822, (17 missing)\n",
      "      Professional                    < 19.72572  to the left,  improve=1.895412, (17 missing)\n",
      "\n",
      "Node number 7: 86 observations\n",
      "  predicted class=not_low  expected loss=0.1162791  P(node) =0.4574468\n",
      "    class counts:    10    76\n",
      "   probabilities: 0.116 0.884 \n",
      "\n",
      "Node number 12: 7 observations\n",
      "  predicted class=low      expected loss=0.1428571  P(node) =0.03723404\n",
      "    class counts:     6     1\n",
      "   probabilities: 0.857 0.143 \n",
      "\n",
      "Node number 13: 88 observations,    complexity param=0.05319149\n",
      "  predicted class=not_low  expected loss=0.2727273  P(node) =0.4680851\n",
      "    class counts:    24    64\n",
      "   probabilities: 0.273 0.727 \n",
      "  left son=26 (17 obs) right son=27 (71 obs)\n",
      "  Primary splits:\n",
      "      Production   < 5.80304   to the left,  improve=2.685748, (17 missing)\n",
      "      Professional < 43.54877  to the right, improve=2.637724, (17 missing)\n",
      "      Transit      < 54.47672  to the right, improve=2.207798, (17 missing)\n",
      "      IncomePerCap < 34868.56  to the right, improve=1.779630, (16 missing)\n",
      "      SelfEmployed < 4.754427  to the left,  improve=1.352725, (17 missing)\n",
      "  Surrogate splits:\n",
      "      Professional                    < 47.28715  to the right, agree=0.944, adj=0.733, (0 split)\n",
      "      Construction                    < 3.022794  to the left,  agree=0.930, adj=0.667, (0 split)\n",
      "      IncomePerCap                    < 37907.66  to the right, agree=0.930, adj=0.667, (1 split)\n",
      "      Hosp_Adults_Avg_Yr_Rate_per_10K < 4.5       to the left,  agree=0.859, adj=0.333, (16 split)\n",
      "      SelfEmployed                    < 7.391053  to the right, agree=0.845, adj=0.267, (0 split)\n",
      "\n",
      "Node number 26: 17 observations,    complexity param=0.05319149\n",
      "  predicted class=not_low  expected loss=0.4705882  P(node) =0.09042553\n",
      "    class counts:     8     9\n",
      "   probabilities: 0.471 0.529 \n",
      "  left son=52 (5 obs) right son=53 (12 obs)\n",
      "  Primary splits:\n",
      "      Hosp_Adults_Avg_Yr_Rate_per_10K < 10.65     to the right, improve=3.970588, (0 missing)\n",
      "      SelfEmployed                    < 5.637075  to the left,  improve=2.375758, (2 missing)\n",
      "      IncomePerCap                    < 108757    to the left,  improve=1.846154, (1 missing)\n",
      "      Production                      < 1.512222  to the right, improve=1.666667, (2 missing)\n",
      "      Construction                    < 5.720146  to the right, improve=1.633333, (2 missing)\n",
      "  Surrogate splits:\n",
      "      Construction < 5.720146  to the right, agree=0.765, adj=0.2, (0 split)\n",
      "      IncomePerCap < 40398.46  to the left,  agree=0.765, adj=0.2, (0 split)\n",
      "      PrivateWork  < 76.60671  to the left,  agree=0.765, adj=0.2, (0 split)\n",
      "\n",
      "Node number 27: 71 observations,    complexity param=0.05319149\n",
      "  predicted class=not_low  expected loss=0.2253521  P(node) =0.3776596\n",
      "    class counts:    16    55\n",
      "   probabilities: 0.225 0.775 \n",
      "  left son=54 (33 obs) right son=55 (38 obs)\n",
      "  Primary splits:\n",
      "      SelfEmployed < 4.699086  to the left,  improve=2.026165, (15 missing)\n",
      "      Production   < 8.608253  to the right, improve=1.826134, (15 missing)\n",
      "      Construction < 11.4576   to the right, improve=1.788375, (15 missing)\n",
      "      Transit      < 20.06831  to the left,  improve=1.314935, (15 missing)\n",
      "      IncomePerCap < 44070.57  to the right, improve=1.314935, (15 missing)\n",
      "  Surrogate splits:\n",
      "      Construction                    < 7.960472  to the right, agree=0.714, adj=0.273, (0 split)\n",
      "      Hosp_Adults_Avg_Yr_Rate_per_10K < 11.5      to the right, agree=0.696, adj=0.227, (15 split)\n",
      "      PrivateWork                     < 73.51847  to the left,  agree=0.696, adj=0.227, (0 split)\n",
      "      Transit                         < 23.84312  to the left,  agree=0.679, adj=0.182, (0 split)\n",
      "      IncomePerCap                    < 36386.38  to the right, agree=0.643, adj=0.091, (0 split)\n",
      "\n",
      "Node number 52: 5 observations\n",
      "  predicted class=low      expected loss=0  P(node) =0.02659574\n",
      "    class counts:     5     0\n",
      "   probabilities: 1.000 0.000 \n",
      "\n",
      "Node number 53: 12 observations,    complexity param=0.04255319\n",
      "  predicted class=not_low  expected loss=0.25  P(node) =0.06382979\n",
      "    class counts:     3     9\n",
      "   probabilities: 0.250 0.750 \n",
      "  left son=106 (2 obs) right son=107 (10 obs)\n",
      "  Primary splits:\n",
      "      Transit      < 54.47672  to the right, improve=2.450000, (2 missing)\n",
      "      PrivateWork  < 87.82459  to the right, improve=2.450000, (2 missing)\n",
      "      SelfEmployed < 5.432778  to the left,  improve=1.088889, (2 missing)\n",
      "      Construction < 0.1708333 to the left,  improve=1.088889, (2 missing)\n",
      "      Production   < 0.7903846 to the left,  improve=1.088889, (2 missing)\n",
      "\n",
      "Node number 54: 33 observations,    complexity param=0.05319149\n",
      "  predicted class=not_low  expected loss=0.3333333  P(node) =0.1755319\n",
      "    class counts:    11    22\n",
      "   probabilities: 0.333 0.667 \n",
      "  left son=108 (9 obs) right son=109 (24 obs)\n",
      "  Primary splits:\n",
      "      SelfEmployed < 4.019652  to the right, improve=5.224553, (11 missing)\n",
      "      Professional < 43.33071  to the right, improve=2.813397, (11 missing)\n",
      "      Construction < 12.27723  to the right, improve=1.781818, (11 missing)\n",
      "      Production   < 11.09556  to the right, improve=1.781818, (11 missing)\n",
      "      Transit      < 49.76121  to the right, improve=1.781818, (11 missing)\n",
      "  Surrogate splits:\n",
      "      Construction < 8.927053  to the right, agree=0.682, adj=0.222, (0 split)\n",
      "      Production   < 9.048295  to the right, agree=0.682, adj=0.222, (0 split)\n",
      "      Transit      < 42.19673  to the right, agree=0.682, adj=0.222, (0 split)\n",
      "      PrivateWork  < 78.42865  to the right, agree=0.682, adj=0.222, (0 split)\n",
      "      IncomePerCap < 35830.38  to the left,  agree=0.636, adj=0.111, (0 split)\n",
      "\n",
      "Node number 55: 38 observations\n",
      "  predicted class=not_low  expected loss=0.1315789  P(node) =0.2021277\n",
      "    class counts:     5    33\n",
      "   probabilities: 0.132 0.868 \n",
      "\n",
      "Node number 106: 2 observations\n",
      "  predicted class=low      expected loss=0  P(node) =0.0106383\n",
      "    class counts:     2     0\n",
      "   probabilities: 1.000 0.000 \n",
      "\n",
      "Node number 107: 10 observations\n",
      "  predicted class=not_low  expected loss=0.1  P(node) =0.05319149\n",
      "    class counts:     1     9\n",
      "   probabilities: 0.100 0.900 \n",
      "\n",
      "Node number 108: 9 observations\n",
      "  predicted class=low      expected loss=0.2222222  P(node) =0.04787234\n",
      "    class counts:     7     2\n",
      "   probabilities: 0.778 0.222 \n",
      "\n",
      "Node number 109: 24 observations\n",
      "  predicted class=not_low  expected loss=0.1666667  P(node) =0.1276596\n",
      "    class counts:     4    20\n",
      "   probabilities: 0.167 0.833 \n",
      "\n"
     ]
    }
   ],
   "source": [
    "cart_1 <- rpart(density_bins ~ SelfEmployed + Hosp_Adults_Avg_Yr_Rate_per_10K + Construction + Production + Transit + IncomePerCap + Professional+ PrivateWork,\n",
    "                data = agg_data, control = rpart.control(minsplit = 3, xval = 0, cp = 0.035))\n",
    "\n",
    "summary(cart_1)"
   ]
  },
  {
   "cell_type": "code",
   "execution_count": 102,
   "metadata": {},
   "outputs": [
    {
     "data": {
      "image/png": "[encoded data removed]",
      "text/plain": [
       "plot without title"
      ]
     },
     "metadata": {},
     "output_type": "display_data"
    }
   ],
   "source": [
    "rpart.plot(cart_1, yesno=1, fallen.leaves=TRUE, under = TRUE, box.palette = \"Blues\", branch.lty = 3, shadow.col = \"gray\")"
   ]
  },
  {
   "cell_type": "markdown",
   "metadata": {},
   "source": [
    "#### Predictive accuracy, confusion matrix and other model performance evluation"
   ]
  },
  {
   "cell_type": "code",
   "execution_count": 103,
   "metadata": {},
   "outputs": [
    {
     "data": {
      "text/html": [
       "0.877659574468085"
      ],
      "text/latex": [
       "0.877659574468085"
      ],
      "text/markdown": [
       "0.877659574468085"
      ],
      "text/plain": [
       "[1] 0.8776596"
      ]
     },
     "metadata": {},
     "output_type": "display_data"
    }
   ],
   "source": [
    "#Prediction accuracy\n",
    "predicted_bin= predict(cart_1,agg_data, type = \"class\")\n",
    "mean(predicted_bin == agg_data$density_bins) "
   ]
  },
  {
   "cell_type": "code",
   "execution_count": 104,
   "metadata": {},
   "outputs": [
    {
     "data": {
      "text/plain": [
       "         actual\n",
       "predicted low not_low\n",
       "  low      27       3\n",
       "  not_low  20     138"
      ]
     },
     "metadata": {},
     "output_type": "display_data"
    },
    {
     "data": {
      "text/html": [
       "0.873417721518987"
      ],
      "text/latex": [
       "0.873417721518987"
      ],
      "text/markdown": [
       "0.873417721518987"
      ],
      "text/plain": [
       "[1] 0.8734177"
      ]
     },
     "metadata": {},
     "output_type": "display_data"
    },
    {
     "data": {
      "text/html": [
       "0.978723404255319"
      ],
      "text/latex": [
       "0.978723404255319"
      ],
      "text/markdown": [
       "0.978723404255319"
      ],
      "text/plain": [
       "[1] 0.9787234"
      ]
     },
     "metadata": {},
     "output_type": "display_data"
    },
    {
     "data": {
      "text/html": [
       "0.923076923076923"
      ],
      "text/latex": [
       "0.923076923076923"
      ],
      "text/markdown": [
       "0.923076923076923"
      ],
      "text/plain": [
       "[1] 0.9230769"
      ]
     },
     "metadata": {},
     "output_type": "display_data"
    }
   ],
   "source": [
    "confusion_matrix <- table(predicted = predicted_bin, actual = agg_data$density_bins)\n",
    "confusion_matrix\n",
    "\n",
    "precision <- confusion_matrix[2,2]/sum(confusion_matrix[2,]) #precision - 0.65\n",
    "precision\n",
    "\n",
    "recall <- confusion_matrix[2,2]/sum(confusion_matrix[,2]) #recall - 0.829787234042553\n",
    "recall\n",
    "\n",
    "F1score <- 2 * ((precision * recall)/(precision + recall)) #F1 score - 0.728971962616822\n",
    "F1score"
   ]
  },
  {
   "cell_type": "markdown",
   "metadata": {},
   "source": [
    "#### Now trying the model using partitioned data"
   ]
  },
  {
   "cell_type": "code",
   "execution_count": 105,
   "metadata": {},
   "outputs": [
    {
     "name": "stdout",
     "output_type": "stream",
     "text": [
      "Call:\n",
      "rpart(formula = density_bins ~ SelfEmployed + Hosp_Adults_Avg_Yr_Rate_per_10K + \n",
      "    Construction + Production + Transit + IncomePerCap + Professional + \n",
      "    PrivateWork, data = agg_data_train, control = rpart.control(minsplit = 3, \n",
      "    xval = 0, cp = 0.035))\n",
      "  n= 151 \n",
      "\n",
      "          CP nsplit rel error\n",
      "1 0.10526316      0 1.0000000\n",
      "2 0.06578947      1 0.8947368\n",
      "3 0.05263158      3 0.7631579\n",
      "4 0.03684211      4 0.7105263\n",
      "5 0.03500000      9 0.5263158\n",
      "\n",
      "Variable importance\n",
      "                   SelfEmployed                    Construction \n",
      "                             22                              19 \n",
      "                        Transit Hosp_Adults_Avg_Yr_Rate_per_10K \n",
      "                             14                              11 \n",
      "                   IncomePerCap                     PrivateWork \n",
      "                             11                              11 \n",
      "                   Professional                      Production \n",
      "                              8                               4 \n",
      "\n",
      "Node number 1: 151 observations,    complexity param=0.1052632\n",
      "  predicted class=not_low  expected loss=0.2516556  P(node) =1\n",
      "    class counts:    38   113\n",
      "   probabilities: 0.252 0.748 \n",
      "  left son=2 (4 obs) right son=3 (147 obs)\n",
      "  Primary splits:\n",
      "      SelfEmployed                    < 2.827765  to the left,  improve=4.982173, (21 missing)\n",
      "      PrivateWork                     < 70.73994  to the left,  improve=4.685194, (21 missing)\n",
      "      Hosp_Adults_Avg_Yr_Rate_per_10K < 21        to the right, improve=3.069204, (0 missing)\n",
      "      Transit                         < 55.38444  to the left,  improve=2.877478, (21 missing)\n",
      "      Construction                    < 10.45224  to the right, improve=2.873504, (21 missing)\n",
      "\n",
      "Node number 2: 4 observations\n",
      "  predicted class=low      expected loss=0  P(node) =0.02649007\n",
      "    class counts:     4     0\n",
      "   probabilities: 1.000 0.000 \n",
      "\n",
      "Node number 3: 147 observations,    complexity param=0.06578947\n",
      "  predicted class=not_low  expected loss=0.2312925  P(node) =0.9735099\n",
      "    class counts:    34   113\n",
      "   probabilities: 0.231 0.769 \n",
      "  left son=6 (13 obs) right son=7 (134 obs)\n",
      "  Primary splits:\n",
      "      Construction                    < 10.45224  to the right, improve=3.352340, (21 missing)\n",
      "      Transit                         < 55.38444  to the left,  improve=3.033911, (21 missing)\n",
      "      PrivateWork                     < 70.58754  to the left,  improve=2.513791, (21 missing)\n",
      "      SelfEmployed                    < 4.754427  to the left,  improve=2.441046, (21 missing)\n",
      "      Hosp_Adults_Avg_Yr_Rate_per_10K < 18.75     to the right, improve=1.787099, (0 missing)\n",
      "  Surrogate splits:\n",
      "      Professional < 16.49083  to the left,  agree=0.913, adj=0.154, (0 split)\n",
      "\n",
      "Node number 6: 13 observations,    complexity param=0.06578947\n",
      "  predicted class=low      expected loss=0.4615385  P(node) =0.08609272\n",
      "    class counts:     7     6\n",
      "   probabilities: 0.538 0.462 \n",
      "  left son=12 (7 obs) right son=13 (6 obs)\n",
      "  Primary splits:\n",
      "      SelfEmployed                    < 4.961528  to the left,  improve=3.080586, (0 missing)\n",
      "      Transit                         < 55.87348  to the left,  improve=1.861538, (0 missing)\n",
      "      Construction                    < 11.63403  to the left,  improve=1.661538, (0 missing)\n",
      "      Hosp_Adults_Avg_Yr_Rate_per_10K < 9.3       to the right, improve=1.370629, (0 missing)\n",
      "      PrivateWork                     < 80.62267  to the left,  improve=1.111538, (0 missing)\n",
      "  Surrogate splits:\n",
      "      Transit      < 55.87348  to the left,  agree=0.923, adj=0.833, (0 split)\n",
      "      Construction < 11.975    to the left,  agree=0.769, adj=0.500, (0 split)\n",
      "      IncomePerCap < 18878.69  to the right, agree=0.692, adj=0.333, (0 split)\n",
      "      Professional < 18.74053  to the right, agree=0.692, adj=0.333, (0 split)\n",
      "      PrivateWork  < 75.38708  to the left,  agree=0.692, adj=0.333, (0 split)\n",
      "\n",
      "Node number 7: 134 observations,    complexity param=0.05263158\n",
      "  predicted class=not_low  expected loss=0.2014925  P(node) =0.8874172\n",
      "    class counts:    27   107\n",
      "   probabilities: 0.201 0.799 \n",
      "  left son=14 (4 obs) right son=15 (130 obs)\n",
      "  Primary splits:\n",
      "      PrivateWork  < 70.58754  to the left,  improve=2.893927, (21 missing)\n",
      "      Transit      < 55.38444  to the left,  improve=1.605926, (21 missing)\n",
      "      Construction < 0.7346154 to the left,  improve=1.586699, (21 missing)\n",
      "      IncomePerCap < 26334.11  to the right, improve=1.583577, (19 missing)\n",
      "      Production   < 0.7903846 to the left,  improve=1.426201, (21 missing)\n",
      "\n",
      "Node number 12: 7 observations\n",
      "  predicted class=low      expected loss=0.1428571  P(node) =0.04635762\n",
      "    class counts:     6     1\n",
      "   probabilities: 0.857 0.143 \n",
      "\n",
      "Node number 13: 6 observations\n",
      "  predicted class=not_low  expected loss=0.1666667  P(node) =0.0397351\n",
      "    class counts:     1     5\n",
      "   probabilities: 0.167 0.833 \n",
      "\n",
      "Node number 14: 4 observations\n",
      "  predicted class=low      expected loss=0.25  P(node) =0.02649007\n",
      "    class counts:     3     1\n",
      "   probabilities: 0.750 0.250 \n",
      "\n",
      "Node number 15: 130 observations,    complexity param=0.03684211\n",
      "  predicted class=not_low  expected loss=0.1846154  P(node) =0.8609272\n",
      "    class counts:    24   106\n",
      "   probabilities: 0.185 0.815 \n",
      "  left son=30 (3 obs) right son=31 (127 obs)\n",
      "  Primary splits:\n",
      "      Construction < 0.7346154 to the left,  improve=1.7269060, (21 missing)\n",
      "      Production   < 0.7903846 to the left,  improve=1.5011890, (21 missing)\n",
      "      Transit      < 20.06831  to the left,  improve=1.5011890, (21 missing)\n",
      "      PrivateWork  < 85.44788  to the right, improve=1.2665180, (21 missing)\n",
      "      IncomePerCap < 26334.11  to the right, improve=0.8841279, (19 missing)\n",
      "  Surrogate splits:\n",
      "      Production < 1.132465  to the left,  agree=0.982, adj=0.333, (0 split)\n",
      "\n",
      "Node number 30: 3 observations\n",
      "  predicted class=low      expected loss=0.3333333  P(node) =0.01986755\n",
      "    class counts:     2     1\n",
      "   probabilities: 0.667 0.333 \n",
      "\n",
      "Node number 31: 127 observations,    complexity param=0.03684211\n",
      "  predicted class=not_low  expected loss=0.1732283  P(node) =0.8410596\n",
      "    class counts:    22   105\n",
      "   probabilities: 0.173 0.827 \n",
      "  left son=62 (1 obs) right son=63 (126 obs)\n",
      "  Primary splits:\n",
      "      Transit                         < 20.06831  to the left,  improve=1.5541780, (21 missing)\n",
      "      Hosp_Adults_Avg_Yr_Rate_per_10K < 18.75     to the right, improve=1.1369830, (0 missing)\n",
      "      PrivateWork                     < 87.88676  to the right, improve=0.5805515, (21 missing)\n",
      "      Production                      < 11.82428  to the left,  improve=0.5668763, (21 missing)\n",
      "      IncomePerCap                    < 26334.11  to the right, improve=0.5571836, (19 missing)\n",
      "\n",
      "Node number 62: 1 observations\n",
      "  predicted class=low      expected loss=0  P(node) =0.006622517\n",
      "    class counts:     1     0\n",
      "   probabilities: 1.000 0.000 \n",
      "\n",
      "Node number 63: 126 observations,    complexity param=0.03684211\n",
      "  predicted class=not_low  expected loss=0.1666667  P(node) =0.8344371\n",
      "    class counts:    21   105\n",
      "   probabilities: 0.167 0.833 \n",
      "  left son=126 (51 obs) right son=127 (75 obs)\n",
      "  Primary splits:\n",
      "      Hosp_Adults_Avg_Yr_Rate_per_10K < 18.75     to the right, improve=1.3341180, (0 missing)\n",
      "      PrivateWork                     < 85.44163  to the right, improve=0.6106782, (21 missing)\n",
      "      Transit                         < 46.74063  to the left,  improve=0.5823589, (21 missing)\n",
      "      Construction                    < 7.324722  to the left,  improve=0.5504762, (21 missing)\n",
      "      Production                      < 11.82428  to the left,  improve=0.4930979, (21 missing)\n",
      "  Surrogate splits:\n",
      "      IncomePerCap < 25521.03  to the left,  agree=0.683, adj=0.216, (0 split)\n",
      "      Transit      < 58.66539  to the right, agree=0.635, adj=0.098, (0 split)\n",
      "      Professional < 34.89776  to the left,  agree=0.619, adj=0.059, (0 split)\n",
      "\n",
      "Node number 126: 51 observations,    complexity param=0.03684211\n",
      "  predicted class=not_low  expected loss=0.254902  P(node) =0.3377483\n",
      "    class counts:    13    38\n",
      "   probabilities: 0.255 0.745 \n",
      "  left son=252 (12 obs) right son=253 (39 obs)\n",
      "  Primary splits:\n",
      "      IncomePerCap                    < 25986.61  to the right, improve=2.717391, (5 missing)\n",
      "      Hosp_Adults_Avg_Yr_Rate_per_10K < 25        to the left,  improve=2.318495, (0 missing)\n",
      "      Transit                         < 43.4441   to the left,  improve=2.222222, (6 missing)\n",
      "      Construction                    < 9.238889  to the right, improve=1.458586, (6 missing)\n",
      "      Professional                    < 23.55289  to the right, improve=1.088889, (6 missing)\n",
      "  Surrogate splits:\n",
      "      Professional                    < 36.98662  to the right, agree=0.891, adj=0.5, (0 split)\n",
      "      Production                      < 6.126587  to the left,  agree=0.826, adj=0.2, (0 split)\n",
      "      Hosp_Adults_Avg_Yr_Rate_per_10K < 23.05     to the left,  agree=0.804, adj=0.1, (5 split)\n",
      "      Construction                    < 2.671154  to the left,  agree=0.804, adj=0.1, (0 split)\n",
      "      Transit                         < 44.43429  to the left,  agree=0.804, adj=0.1, (0 split)\n",
      "\n",
      "Node number 127: 75 observations\n",
      "  predicted class=not_low  expected loss=0.1066667  P(node) =0.4966887\n",
      "    class counts:     8    67\n",
      "   probabilities: 0.107 0.893 \n",
      "\n",
      "Node number 252: 12 observations,    complexity param=0.03684211\n",
      "  predicted class=low      expected loss=0.4166667  P(node) =0.0794702\n",
      "    class counts:     7     5\n",
      "   probabilities: 0.583 0.417 \n",
      "  left son=504 (7 obs) right son=505 (5 obs)\n",
      "  Primary splits:\n",
      "      Hosp_Adults_Avg_Yr_Rate_per_10K < 25        to the left,  improve=2.519048, (0 missing)\n",
      "      Production                      < 8.64171   to the right, improve=2.142857, (2 missing)\n",
      "      Transit                         < 43.4441   to the left,  improve=2.142857, (2 missing)\n",
      "      Professional                    < 37.64441  to the left,  improve=2.142857, (2 missing)\n",
      "      SelfEmployed                    < 5.109524  to the left,  improve=1.250000, (2 missing)\n",
      "  Surrogate splits:\n",
      "      Production < 7.875079  to the right, agree=0.667, adj=0.2, (0 split)\n",
      "      Transit    < 68.69776  to the left,  agree=0.667, adj=0.2, (0 split)\n",
      "\n",
      "Node number 253: 39 observations\n",
      "  predicted class=not_low  expected loss=0.1538462  P(node) =0.2582781\n",
      "    class counts:     6    33\n",
      "   probabilities: 0.154 0.846 \n",
      "\n",
      "Node number 504: 7 observations\n",
      "  predicted class=low      expected loss=0.1428571  P(node) =0.04635762\n",
      "    class counts:     6     1\n",
      "   probabilities: 0.857 0.143 \n",
      "\n",
      "Node number 505: 5 observations\n",
      "  predicted class=not_low  expected loss=0.2  P(node) =0.03311258\n",
      "    class counts:     1     4\n",
      "   probabilities: 0.200 0.800 \n",
      "\n"
     ]
    }
   ],
   "source": [
    "set.seed(266)\n",
    "sampling_vector <- createDataPartition(agg_data$density_bins, p = 0.80, list = FALSE)\n",
    "agg_data_train <- agg_data[sampling_vector,]\n",
    "agg_data_test <- agg_data[-sampling_vector,]\n",
    "\n",
    "cart_2 <- rpart(density_bins ~ SelfEmployed + Hosp_Adults_Avg_Yr_Rate_per_10K + Construction + Production + Transit + IncomePerCap + Professional+ PrivateWork,\n",
    "                data = agg_data_train, control = rpart.control(minsplit = 3, xval = 0, cp = 0.035))\n",
    "\n",
    "summary(cart_2)"
   ]
  },
  {
   "cell_type": "code",
   "execution_count": 106,
   "metadata": {},
   "outputs": [
    {
     "data": {
      "image/png": "[encoded data removed]",
      "text/plain": [
       "plot without title"
      ]
     },
     "metadata": {},
     "output_type": "display_data"
    }
   ],
   "source": [
    "rpart.plot(cart_2, yesno=1, fallen.leaves=TRUE, under = TRUE, box.palette = \"Blues\", branch.lty = 3, shadow.col = \"gray\")"
   ]
  },
  {
   "cell_type": "markdown",
   "metadata": {},
   "source": [
    "#### Test and Train accuracies"
   ]
  },
  {
   "cell_type": "code",
   "execution_count": 107,
   "metadata": {},
   "outputs": [
    {
     "data": {
      "text/html": [
       "0.867549668874172"
      ],
      "text/latex": [
       "0.867549668874172"
      ],
      "text/markdown": [
       "0.867549668874172"
      ],
      "text/plain": [
       "[1] 0.8675497"
      ]
     },
     "metadata": {},
     "output_type": "display_data"
    },
    {
     "data": {
      "text/html": [
       "0.756756756756757"
      ],
      "text/latex": [
       "0.756756756756757"
      ],
      "text/markdown": [
       "0.756756756756757"
      ],
      "text/plain": [
       "[1] 0.7567568"
      ]
     },
     "metadata": {},
     "output_type": "display_data"
    }
   ],
   "source": [
    "#Train prediction accuracy\n",
    "predicted_bin= predict(cart_2,agg_data_train, type = \"class\")\n",
    "mean(predicted_bin == agg_data_train$density_bins) \n",
    "\n",
    "#Test prediction accuracy\n",
    "predicted_bin= predict(cart_2,agg_data_test, type = \"class\")\n",
    "mean(predicted_bin == agg_data_test$density_bins) "
   ]
  },
  {
   "cell_type": "markdown",
   "metadata": {},
   "source": [
    "#### Prediction Performance Evaluation"
   ]
  },
  {
   "cell_type": "code",
   "execution_count": 108,
   "metadata": {},
   "outputs": [
    {
     "data": {
      "text/plain": [
       "         actual\n",
       "predicted low not_low\n",
       "  low       3       3\n",
       "  not_low   6      25"
      ]
     },
     "metadata": {},
     "output_type": "display_data"
    },
    {
     "data": {
      "text/html": [
       "0.806451612903226"
      ],
      "text/latex": [
       "0.806451612903226"
      ],
      "text/markdown": [
       "0.806451612903226"
      ],
      "text/plain": [
       "[1] 0.8064516"
      ]
     },
     "metadata": {},
     "output_type": "display_data"
    },
    {
     "data": {
      "text/html": [
       "0.892857142857143"
      ],
      "text/latex": [
       "0.892857142857143"
      ],
      "text/markdown": [
       "0.892857142857143"
      ],
      "text/plain": [
       "[1] 0.8928571"
      ]
     },
     "metadata": {},
     "output_type": "display_data"
    },
    {
     "data": {
      "text/html": [
       "0.847457627118644"
      ],
      "text/latex": [
       "0.847457627118644"
      ],
      "text/markdown": [
       "0.847457627118644"
      ],
      "text/plain": [
       "[1] 0.8474576"
      ]
     },
     "metadata": {},
     "output_type": "display_data"
    }
   ],
   "source": [
    "#Confusion Matrix, etc.\n",
    "confusion_matrix <- table(predicted = predicted_bin, actual = agg_data_test$density_bins)\n",
    "confusion_matrix\n",
    "\n",
    "precision <- confusion_matrix[2,2]/sum(confusion_matrix[2,]) #precision - 0.65\n",
    "precision\n",
    "\n",
    "recall <- confusion_matrix[2,2]/sum(confusion_matrix[,2]) #recall - 0.829787234042553\n",
    "recall\n",
    "\n",
    "F1score <- 2 * ((precision * recall)/(precision + recall)) #F1 score - 0.728971962616822\n",
    "F1score"
   ]
  }
 ],
 "metadata": {
  "kernelspec": {
   "display_name": "R",
   "language": "R",
   "name": "ir"
  },
  "language_info": {
   "codemirror_mode": "r",
   "file_extension": ".r",
   "mimetype": "text/x-r-source",
   "name": "R",
   "pygments_lexer": "r",
   "version": "3.6.1"
  }
 },
 "nbformat": 4,
 "nbformat_minor": 4
}
