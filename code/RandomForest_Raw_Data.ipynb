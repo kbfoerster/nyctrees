{
 "cells": [
  {
   "cell_type": "markdown",
   "metadata": {},
   "source": [
    "## Random Forest on Healthstatus\n",
    "\n",
    "The goal of this is to perform random forest on the healthstatus attribute of our primary dataset "
   ]
  },
  {
   "cell_type": "code",
   "execution_count": 1,
   "metadata": {},
   "outputs": [
    {
     "name": "stderr",
     "output_type": "stream",
     "text": [
      "randomForest 4.6-14\n",
      "Type rfNews() to see new features/changes/bug fixes.\n",
      "\n",
      "Attaching package: 'ggplot2'\n",
      "\n",
      "The following object is masked from 'package:randomForest':\n",
      "\n",
      "    margin\n",
      "\n",
      "Loading required package: lattice\n",
      "Warning message:\n",
      "\"package 'here' was built under R version 3.6.3\"here() starts at D:/nyctrees\n"
     ]
    }
   ],
   "source": [
    "library(randomForest)\n",
    "library(ggplot2)\n",
    "library(caret)\n",
    "library(here)\n",
    "\n",
    "data = read.csv(here(\"data\",\"2015_data.csv\"))"
   ]
  },
  {
   "cell_type": "markdown",
   "metadata": {},
   "source": [
    "### Downsampling Data\n",
    "As with our [CART Classification](https://github.com/kbfoerster/nyctrees/blob/master/code/CART_Raw_Data.ipynb)we are going to downsample and upsample the data. "
   ]
  },
  {
   "cell_type": "code",
   "execution_count": 2,
   "metadata": {},
   "outputs": [
    {
     "data": {
      "text/html": [
       "<dl class=dl-horizontal>\n",
       "\t<dt>Dead</dt>\n",
       "\t\t<dd>13874</dd>\n",
       "\t<dt>Good</dt>\n",
       "\t\t<dd>590451</dd>\n",
       "\t<dt>Poor</dt>\n",
       "\t\t<dd>26283</dd>\n",
       "</dl>\n"
      ],
      "text/latex": [
       "\\begin{description*}\n",
       "\\item[Dead] 13874\n",
       "\\item[Good] 590451\n",
       "\\item[Poor] 26283\n",
       "\\end{description*}\n"
      ],
      "text/markdown": [
       "Dead\n",
       ":   13874Good\n",
       ":   590451Poor\n",
       ":   26283\n",
       "\n"
      ],
      "text/plain": [
       "  Dead   Good   Poor \n",
       " 13874 590451  26283 "
      ]
     },
     "metadata": {},
     "output_type": "display_data"
    }
   ],
   "source": [
    "summary(data$healthstatus)"
   ]
  },
  {
   "cell_type": "code",
   "execution_count": 6,
   "metadata": {},
   "outputs": [
    {
     "data": {
      "text/html": [
       "<dl class=dl-horizontal>\n",
       "\t<dt>Dead</dt>\n",
       "\t\t<dd>11100</dd>\n",
       "\t<dt>Good</dt>\n",
       "\t\t<dd>11100</dd>\n",
       "\t<dt>Poor</dt>\n",
       "\t\t<dd>11100</dd>\n",
       "</dl>\n"
      ],
      "text/latex": [
       "\\begin{description*}\n",
       "\\item[Dead] 11100\n",
       "\\item[Good] 11100\n",
       "\\item[Poor] 11100\n",
       "\\end{description*}\n"
      ],
      "text/markdown": [
       "Dead\n",
       ":   11100Good\n",
       ":   11100Poor\n",
       ":   11100\n",
       "\n"
      ],
      "text/plain": [
       " Dead  Good  Poor \n",
       "11100 11100 11100 "
      ]
     },
     "metadata": {},
     "output_type": "display_data"
    }
   ],
   "source": [
    "set.seed(42)\n",
    "down_data = downSample(data, data$healthstatus)\n",
    "part = createDataPartition(down_data$healthstatus, p = 0.80, list = FALSE)\n",
    "train = down_data[part,]\n",
    "test = down_data[-part,]\n",
    "summary(train$healthstatus)"
   ]
  },
  {
   "cell_type": "code",
   "execution_count": 10,
   "metadata": {},
   "outputs": [
    {
     "ename": "ERROR",
     "evalue": "Error in randomForest.default(healthstatus ~ latitude + longitude + zipcode + : NA not permitted in predictors\n",
     "output_type": "error",
     "traceback": [
      "Error in randomForest.default(healthstatus ~ latitude + longitude + zipcode + : NA not permitted in predictors\nTraceback:\n",
      "1. randomForest(healthstatus ~ latitude + longitude + zipcode + \n .     st_assem + sidw_crack + st_senate + inf_guard, data = train, \n .     x = train, y = train$healthstatus, xtest = test, ytest = test$healthstatus)",
      "2. randomForest.default(healthstatus ~ latitude + longitude + zipcode + \n .     st_assem + sidw_crack + st_senate + inf_guard, data = train, \n .     x = train, y = train$healthstatus, xtest = test, ytest = test$healthstatus)",
      "3. stop(\"NA not permitted in predictors\")"
     ]
    }
   ],
   "source": [
    "down_rf = randomForest(healthstatus ~ latitude + longitude + zipcode + st_assem + sidw_crack + st_senate + inf_guard, data=train)"
   ]
  },
  {
   "cell_type": "code",
   "execution_count": 15,
   "metadata": {},
   "outputs": [
    {
     "data": {
      "text/plain": [
       "\n",
       "Call:\n",
       " randomForest(formula = healthstatus ~ latitude + longitude +      zipcode + st_assem + sidw_crack + st_senate + inf_guard,      data = train) \n",
       "               Type of random forest: classification\n",
       "                     Number of trees: 500\n",
       "No. of variables tried at each split: 2\n",
       "\n",
       "        OOB estimate of  error rate: 51.07%\n",
       "Confusion matrix:\n",
       "     Dead Good Poor class.error\n",
       "Dead 9205  956  939   0.1707207\n",
       "Good 5105 3979 2016   0.6415315\n",
       "Poor 5275 2714 3111   0.7197297"
      ]
     },
     "metadata": {},
     "output_type": "display_data"
    }
   ],
   "source": [
    "down_rf"
   ]
  },
  {
   "cell_type": "code",
   "execution_count": 14,
   "metadata": {},
   "outputs": [
    {
     "data": {
      "text/html": [
       "0.584834834834835"
      ],
      "text/latex": [
       "0.584834834834835"
      ],
      "text/markdown": [
       "0.584834834834835"
      ],
      "text/plain": [
       "[1] 0.5848348"
      ]
     },
     "metadata": {},
     "output_type": "display_data"
    },
    {
     "data": {
      "text/html": [
       "0.49182888728671"
      ],
      "text/latex": [
       "0.49182888728671"
      ],
      "text/markdown": [
       "0.49182888728671"
      ],
      "text/plain": [
       "[1] 0.4918289"
      ]
     },
     "metadata": {},
     "output_type": "display_data"
    }
   ],
   "source": [
    "#Train prediction accuracy\n",
    "train_predict = predict(down_rf, train, type = \"class\")\n",
    "mean(train_predict == train$healthstatus) \n",
    "\n",
    "#Test prediction accuracy\n",
    "test_predict = predict(down_rf, test, type = \"class\")\n",
    "mean(test_predict == test$healthstatus)"
   ]
  },
  {
   "cell_type": "code",
   "execution_count": 17,
   "metadata": {},
   "outputs": [
    {
     "data": {
      "text/plain": [
       "         actual\n",
       "predicted Dead Good Poor\n",
       "     Dead 2330 1309 1311\n",
       "     Good  193  972  672\n",
       "     Poor  251  493  791"
      ]
     },
     "metadata": {},
     "output_type": "display_data"
    },
    {
     "data": {
      "text/html": [
       "0.529123571039739"
      ],
      "text/latex": [
       "0.529123571039739"
      ],
      "text/markdown": [
       "0.529123571039739"
      ],
      "text/plain": [
       "[1] 0.5291236"
      ]
     },
     "metadata": {},
     "output_type": "display_data"
    },
    {
     "data": {
      "text/html": [
       "0.350396539293439"
      ],
      "text/latex": [
       "0.350396539293439"
      ],
      "text/markdown": [
       "0.350396539293439"
      ],
      "text/plain": [
       "[1] 0.3503965"
      ]
     },
     "metadata": {},
     "output_type": "display_data"
    },
    {
     "data": {
      "text/html": [
       "0.42160052049447"
      ],
      "text/latex": [
       "0.42160052049447"
      ],
      "text/markdown": [
       "0.42160052049447"
      ],
      "text/plain": [
       "[1] 0.4216005"
      ]
     },
     "metadata": {},
     "output_type": "display_data"
    }
   ],
   "source": [
    "#Confusion Matrix, etc.\n",
    "confusion_matrix <- table(predicted = test_predict, actual = test$healthstatus)\n",
    "confusion_matrix\n",
    "\n",
    "precision <- confusion_matrix[2,2]/sum(confusion_matrix[2,]) #precision - 0.53\n",
    "precision\n",
    "\n",
    "recall <- confusion_matrix[2,2]/sum(confusion_matrix[,2]) #recall - 0.35\n",
    "recall\n",
    "\n",
    "F1score <- 2 * ((precision * recall)/(precision + recall)) #F1 score - 0.42\n",
    "F1score"
   ]
  },
  {
   "cell_type": "markdown",
   "metadata": {},
   "source": [
    "### Upsampling Data"
   ]
  },
  {
   "cell_type": "code",
   "execution_count": 17,
   "metadata": {},
   "outputs": [
    {
     "data": {
      "text/html": [
       "<dl class=dl-horizontal>\n",
       "\t<dt>Dead</dt>\n",
       "\t\t<dd>590451</dd>\n",
       "\t<dt>Good</dt>\n",
       "\t\t<dd>590451</dd>\n",
       "\t<dt>Poor</dt>\n",
       "\t\t<dd>590451</dd>\n",
       "</dl>\n"
      ],
      "text/latex": [
       "\\begin{description*}\n",
       "\\item[Dead] 590451\n",
       "\\item[Good] 590451\n",
       "\\item[Poor] 590451\n",
       "\\end{description*}\n"
      ],
      "text/markdown": [
       "Dead\n",
       ":   590451Good\n",
       ":   590451Poor\n",
       ":   590451\n",
       "\n"
      ],
      "text/plain": [
       "  Dead   Good   Poor \n",
       "590451 590451 590451 "
      ]
     },
     "metadata": {},
     "output_type": "display_data"
    },
    {
     "data": {
      "text/html": [
       "<dl class=dl-horizontal>\n",
       "\t<dt>Dead</dt>\n",
       "\t\t<dd>118091</dd>\n",
       "\t<dt>Good</dt>\n",
       "\t\t<dd>118091</dd>\n",
       "\t<dt>Poor</dt>\n",
       "\t\t<dd>118091</dd>\n",
       "</dl>\n"
      ],
      "text/latex": [
       "\\begin{description*}\n",
       "\\item[Dead] 118091\n",
       "\\item[Good] 118091\n",
       "\\item[Poor] 118091\n",
       "\\end{description*}\n"
      ],
      "text/markdown": [
       "Dead\n",
       ":   118091Good\n",
       ":   118091Poor\n",
       ":   118091\n",
       "\n"
      ],
      "text/plain": [
       "  Dead   Good   Poor \n",
       "118091 118091 118091 "
      ]
     },
     "metadata": {},
     "output_type": "display_data"
    },
    {
     "data": {
      "text/html": [
       "<dl class=dl-horizontal>\n",
       "\t<dt>Dead</dt>\n",
       "\t\t<dd>94473</dd>\n",
       "\t<dt>Good</dt>\n",
       "\t\t<dd>94473</dd>\n",
       "\t<dt>Poor</dt>\n",
       "\t\t<dd>94473</dd>\n",
       "</dl>\n"
      ],
      "text/latex": [
       "\\begin{description*}\n",
       "\\item[Dead] 94473\n",
       "\\item[Good] 94473\n",
       "\\item[Poor] 94473\n",
       "\\end{description*}\n"
      ],
      "text/markdown": [
       "Dead\n",
       ":   94473Good\n",
       ":   94473Poor\n",
       ":   94473\n",
       "\n"
      ],
      "text/plain": [
       " Dead  Good  Poor \n",
       "94473 94473 94473 "
      ]
     },
     "metadata": {},
     "output_type": "display_data"
    }
   ],
   "source": [
    "set.seed(42)\n",
    "up_data = upSample(data, data$healthstatus)\n",
    "summary(up_data$healthstatus)\n",
    "\n",
    "half_part = createDataPartition(up_data$healthstatus, p = 0.20, list = FALSE)\n",
    "temp_data = up_data[half_part,]\n",
    "summary(temp_data$healthstatus)\n",
    "\n",
    "part = createDataPartition(temp_data$healthstatus, p=0.8, list = FALSE)\n",
    "up_train = temp_data[part,]\n",
    "up_test = temp_data[-part,]\n",
    "summary(up_train$healthstatus)"
   ]
  },
  {
   "cell_type": "code",
   "execution_count": 18,
   "metadata": {},
   "outputs": [],
   "source": [
    "up_rf = randomForest(healthstatus ~ latitude + longitude + zipcode + st_assem + sidw_crack + st_senate + inf_guard, data=up_train)"
   ]
  },
  {
   "cell_type": "code",
   "execution_count": 19,
   "metadata": {},
   "outputs": [
    {
     "data": {
      "text/plain": [
       "\n",
       "Call:\n",
       " randomForest(formula = healthstatus ~ latitude + longitude +      zipcode + st_assem + sidw_crack + st_senate + inf_guard,      data = up_train) \n",
       "               Type of random forest: classification\n",
       "                     Number of trees: 500\n",
       "No. of variables tried at each split: 2\n",
       "\n",
       "        OOB estimate of  error rate: 44.28%\n",
       "Confusion matrix:\n",
       "      Dead  Good  Poor class.error\n",
       "Dead 81865  6860  5748   0.1334561\n",
       "Good 40240 39481 14752   0.5820922\n",
       "Poor 40908 17000 36565   0.6129582"
      ]
     },
     "metadata": {},
     "output_type": "display_data"
    }
   ],
   "source": [
    "up_rf"
   ]
  },
  {
   "cell_type": "code",
   "execution_count": 20,
   "metadata": {},
   "outputs": [
    {
     "data": {
      "text/html": [
       "0.573948817828021"
      ],
      "text/latex": [
       "0.573948817828021"
      ],
      "text/markdown": [
       "0.573948817828021"
      ],
      "text/plain": [
       "[1] 0.5739488"
      ]
     },
     "metadata": {},
     "output_type": "display_data"
    },
    {
     "data": {
      "text/html": [
       "0.558006605131679"
      ],
      "text/latex": [
       "0.558006605131679"
      ],
      "text/markdown": [
       "0.558006605131679"
      ],
      "text/plain": [
       "[1] 0.5580066"
      ]
     },
     "metadata": {},
     "output_type": "display_data"
    }
   ],
   "source": [
    "#Train prediction accuracy\n",
    "train_predict = predict(up_rf, up_train, type = \"class\")\n",
    "mean(train_predict == up_train$healthstatus) \n",
    "\n",
    "#Test prediction accuracy\n",
    "test_predict = predict(up_rf, up_test, type = \"class\")\n",
    "mean(test_predict == up_test$healthstatus)"
   ]
  },
  {
   "cell_type": "code",
   "execution_count": 21,
   "metadata": {},
   "outputs": [
    {
     "data": {
      "text/plain": [
       "         actual\n",
       "predicted  Dead  Good  Poor\n",
       "     Dead 20522  9997 10260\n",
       "     Good  1778  9856  4199\n",
       "     Poor  1318  3765  9159"
      ]
     },
     "metadata": {},
     "output_type": "display_data"
    },
    {
     "data": {
      "text/html": [
       "0.622497315732963"
      ],
      "text/latex": [
       "0.622497315732963"
      ],
      "text/markdown": [
       "0.622497315732963"
      ],
      "text/plain": [
       "[1] 0.6224973"
      ]
     },
     "metadata": {},
     "output_type": "display_data"
    },
    {
     "data": {
      "text/html": [
       "0.417308832246592"
      ],
      "text/latex": [
       "0.417308832246592"
      ],
      "text/markdown": [
       "0.417308832246592"
      ],
      "text/plain": [
       "[1] 0.4173088"
      ]
     },
     "metadata": {},
     "output_type": "display_data"
    },
    {
     "data": {
      "text/html": [
       "0.499657803350992"
      ],
      "text/latex": [
       "0.499657803350992"
      ],
      "text/markdown": [
       "0.499657803350992"
      ],
      "text/plain": [
       "[1] 0.4996578"
      ]
     },
     "metadata": {},
     "output_type": "display_data"
    }
   ],
   "source": [
    "#Confusion Matrix, etc.\n",
    "confusion_matrix <- table(predicted = test_predict, actual = up_test$healthstatus)\n",
    "confusion_matrix\n",
    "\n",
    "precision <- confusion_matrix[2,2]/sum(confusion_matrix[2,]) #precision - 0.62\n",
    "precision\n",
    "\n",
    "recall <- confusion_matrix[2,2]/sum(confusion_matrix[,2]) #recall - 0.42\n",
    "recall\n",
    "\n",
    "F1score <- 2 * ((precision * recall)/(precision + recall)) #F1 score - 0.50\n",
    "F1score"
   ]
  }
 ],
 "metadata": {
  "kernelspec": {
   "display_name": "R",
   "language": "R",
   "name": "ir"
  },
  "language_info": {
   "codemirror_mode": "r",
   "file_extension": ".r",
   "mimetype": "text/x-r-source",
   "name": "R",
   "pygments_lexer": "r",
   "version": "3.6.1"
  }
 },
 "nbformat": 4,
 "nbformat_minor": 4
}
