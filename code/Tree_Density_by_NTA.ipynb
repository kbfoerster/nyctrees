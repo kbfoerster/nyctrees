{
 "cells": [
  {
   "cell_type": "markdown",
   "metadata": {},
   "source": [
    "# Calculating Tree Density Measurements by NTA"
   ]
  },
  {
   "cell_type": "markdown",
   "metadata": {},
   "source": [
    "## Load in the data"
   ]
  },
  {
   "cell_type": "code",
   "execution_count": 3,
   "metadata": {},
   "outputs": [
    {
     "ename": "ERROR",
     "evalue": "Error in library(here): there is no package called 'here'\n",
     "output_type": "error",
     "traceback": [
      "Error in library(here): there is no package called 'here'\nTraceback:\n",
      "1. library(here)"
     ]
    }
   ],
   "source": [
    "library(dplyr)\n",
    "library(stringr)\n",
    "library(tidyr)\n",
    "\n",
    "trees15 = read.csv(\"2015StreetTreesCensus_TREES.csv\")\n",
    "tree_density = read.csv(\"NTA_area.csv\")"
   ]
  },
  {
   "cell_type": "markdown",
   "metadata": {},
   "source": [
    "## Add in square miles and square acres columns \n",
    "\n",
    "- 27878400ft^2 = 1 mi^2 \n",
    "- 43560 ft^2 = 1 acre"
   ]
  },
  {
   "cell_type": "code",
   "execution_count": 2,
   "metadata": {},
   "outputs": [],
   "source": [
    "tree_density$area_sqmi = tree_density$Shape_Area_ftsq / 27878400\n",
    "tree_density$area_acre  = tree_density$Shape_Area_ftsq / 43560"
   ]
  },
  {
   "cell_type": "markdown",
   "metadata": {},
   "source": [
    "## Clean up NTA names"
   ]
  },
  {
   "cell_type": "code",
   "execution_count": null,
   "metadata": {},
   "outputs": [],
   "source": [
    "trees15$nta_name = as.character(trees15$nta_name)\n",
    "\n",
    "trees15$nta_name[trees15$nta_name == \"Todt Hill-Emerson Hill-Heartland Village-Lighthous\"]  = \"Todt Hill-Emerson Hill-Heartland Village-Lighthouse Hill\"\n",
    "trees15$nta_name[trees15$nta_name == \"Breezy Point-Belle Harbor-Rockaway Park-Broad Chan\"]  = \"Breezy Point-Belle Harbor-Rockaway Park-Broad Channel\"\n",
    "\n",
    "trim <- function (x) gsub(\"^\\\\s+|\\\\s+$\", \"\", x)\n",
    "\n",
    "tree_density$NTA_small <- tolower(tree_density$NTA_small)\n",
    "tree_density$NTA_small <- trim(tree_density$NTA_small)\n",
    "tree_density$NTA_small <-str_replace_all(tree_density$NTA_small, \"[^[:alnum:]]\", \" \")\n",
    "tree_density$NTA_small <- gsub(\"\\\\s+\", \" \", str_trim(tree_density$NTA_small))\n",
    "\n",
    "trees15$nta_name <- tolower(trees15$nta_name)\n",
    "trees15$nta_name <- trim(trees15$nta_name)\n",
    "trees15$nta_name <-str_replace_all(trees15$nta_name, \"[^[:alnum:]]\", \" \")\n",
    "trees15$nta_name <- gsub(\"\\\\s+\", \" \", str_trim(trees15$nta_name))"
   ]
  },
  {
   "cell_type": "markdown",
   "metadata": {},
   "source": [
    "## Merge tree totals to NTA data"
   ]
  },
  {
   "cell_type": "code",
   "execution_count": null,
   "metadata": {},
   "outputs": [],
   "source": [
    "tree_total <- trees15 %>% group_by(nta_name)%>% tally()\n",
    "tree_total <- as.data.frame(tree_total) #only has 188 NTA \n",
    "tree_density <- left_join(tree_density, tree_total, by = c(\"NTA_small\"= \"nta_name\"))"
   ]
  },
  {
   "cell_type": "markdown",
   "metadata": {},
   "source": [
    "## Create tree species columns "
   ]
  },
  {
   "cell_type": "code",
   "execution_count": null,
   "metadata": {},
   "outputs": [],
   "source": [
    "trees15$spc_latin = tolower(trees15$spc_latin)\n",
    "trees15$genus = sub(\" .*\", \"\", trees15$spc_latin)\n",
    "trees15$species = sub(\"\\\\S+\", \"\", trees15$spc_latin)\n",
    "trees15$species = sub(\"x \", \"\", trees15$species)\n",
    "trees15$species = trimws(trees15$species, which=\"left\")\n",
    "trees15$species = sub(\" .*\", \"\", trees15$species)\n",
    "\n",
    "trees15$species[trees15$species == \"species\" | trees15$species == \"dead\" | trees15$species == \"unknown\"] = \"\"\n",
    "trees15$genus[trees15$genus == \"unknown\"] = \"\"\n",
    "\n",
    "trees15$spc_latin = NULL\n",
    "trees15$spc_common = NULL"
   ]
  },
  {
   "cell_type": "markdown",
   "metadata": {},
   "source": [
    "## Remove missing values and NAs"
   ]
  },
  {
   "cell_type": "code",
   "execution_count": null,
   "metadata": {},
   "outputs": [],
   "source": [
    "empty_as_na <- function(x){\n",
    "  if(\"factor\" %in% class(x)) x <- as.character(x) ## since ifelse wont work with factors\n",
    "  ifelse(as.character(x)!=\"\", x, NA)\n",
    "}\n",
    "tree_density <- tree_density %>% dplyr::mutate_each(funs(empty_as_na)) #convert empty cells to NA\n",
    "tree_density <- tree_density %>% drop_na() #193 rows -> 186 rows (should be 188!?) #breezy point...and todt hill missing...\n",
    "tree_density %>% summarise_all(funs(sum(is.na(.)))) #missing values\n",
    "\n",
    "names(tree_density)[names(tree_density) == \"n\"] = \"Num_Trees\"\n",
    "\n",
    "trees15$species = empty_as_na(trees15$species)\n",
    "trees15 = trees15 %>% drop_na(species)\n",
    "\n",
    "trees15$health = empty_as_na(trees15$health)\n",
    "trees15 = trees15 %>% drop_na(health)"
   ]
  },
  {
   "cell_type": "markdown",
   "metadata": {},
   "source": [
    "## Calculate densities for small NTAs (n = 188)"
   ]
  },
  {
   "cell_type": "code",
   "execution_count": null,
   "metadata": {},
   "outputs": [],
   "source": [
    "tree_density$Trees_x_sq_mi = tree_density$Num_Trees / tree_density$area_sqmi\n",
    "tree_density$Trees_x_acre = tree_density$Num_Trees / tree_density$area_acre"
   ]
  },
  {
   "cell_type": "markdown",
   "metadata": {},
   "source": [
    "## Calculate densities for larger NTA groupings (n = 55)"
   ]
  },
  {
   "cell_type": "code",
   "execution_count": null,
   "metadata": {},
   "outputs": [],
   "source": [
    "tree_density_2 <- tree_density[, -c(2, 7, 8)]\n",
    "tree_density_2 <- tree_density_2 %>% group_by(NTA_large)%>%  summarise_all(funs(sum))\n",
    "\n",
    "tree_density_2$Trees_x_sq_mi = tree_density_2$Num_Trees / tree_density_2$area_sqmi\n",
    "tree_density_2$Trees_x_acre = tree_density_2$Num_Trees / tree_density_2$area_acre"
   ]
  },
  {
   "cell_type": "markdown",
   "metadata": {},
   "source": [
    "## Calculate tree diversity - number of different species in an area"
   ]
  },
  {
   "cell_type": "code",
   "execution_count": null,
   "metadata": {},
   "outputs": [],
   "source": [
    "listing_species = trees15%>% group_by(nta_name,species) %>% tally()\n",
    "total_species = listing_species%>% group_by(nta_name) %>% tally()\n",
    "names(total_species)[names(total_species) == \"n\"] = \"Num_Species\"\n",
    "\n",
    "tree_density = merge(tree_density, total_species, by.y = \"nta_name\", by.x=\"NTA_small\")\n",
    "\n",
    "tree_density$Species_x_sq_mi = tree_density$Num_Species / tree_density$area_sqmi\n",
    "tree_density$Species_x_acre = tree_density$Num_Species / tree_density$area_acre"
   ]
  },
  {
   "cell_type": "markdown",
   "metadata": {},
   "source": [
    "## Calculate Tree Health (Avg. health in a space)"
   ]
  },
  {
   "cell_type": "code",
   "execution_count": null,
   "metadata": {},
   "outputs": [],
   "source": [
    "listing_health = trees15 %>% group_by(nta_name, health) %>% tally()\n",
    "temp = trees15\n",
    "\n",
    "temp$health[trees15$health == \"Poor\"] = 1\n",
    "temp$health[trees15$health == \"Fair\"] = 2\n",
    "temp$health[trees15$health == \"Good\"] = 3\n",
    "temp$health = as.numeric(temp$health)\n",
    "\n",
    "average_health = temp[,c(\"health\",\"nta_name\")] %>% group_by(nta_name)\n",
    "average_health = average_health %>% summarise(avg_health = mean(health))\n",
    "\n",
    "tree_density = merge(tree_density, average_health, by.x=\"NTA_small\", by.y=\"nta_name\")"
   ]
  },
  {
   "cell_type": "markdown",
   "metadata": {},
   "source": [
    "## Calculate other sidewalk variables"
   ]
  },
  {
   "cell_type": "code",
   "execution_count": null,
   "metadata": {},
   "outputs": [],
   "source": [
    "listing_sidewalk = trees15 %>% group_by(nta_name,sidewalk) %>% tally()\n",
    "temp = trees15\n",
    "temp$sidewalk = as.character(temp$sidewalk)\n",
    "\n",
    "temp$sidewalk[trees15$sidewalk == \"Damage\"] = 1\n",
    "temp$sidewalk[trees15$sidewalk == \"NoDamage\"] = 0\n",
    "temp$sidewalk = as.numeric(temp$sidewalk)\n",
    "\n",
    "average_sidewalk = temp[,c(\"sidewalk\",\"nta_name\")] %>% group_by(nta_name)\n",
    "average_sidewalk = average_sidewalk %>% summarise(avg_sidewalk = mean(sidewalk))\n",
    "\n",
    "tree_density = merge(tree_density, average_sidewalk, by.x=\"NTA_small\", by.y=\"nta_name\")"
   ]
  }
 ],
 "metadata": {
  "kernelspec": {
   "display_name": "R",
   "language": "R",
   "name": "ir"
  },
  "language_info": {
   "codemirror_mode": "r",
   "file_extension": ".r",
   "mimetype": "text/x-r-source",
   "name": "R",
   "pygments_lexer": "r",
   "version": "3.6.1"
  }
 },
 "nbformat": 4,
 "nbformat_minor": 4
}
